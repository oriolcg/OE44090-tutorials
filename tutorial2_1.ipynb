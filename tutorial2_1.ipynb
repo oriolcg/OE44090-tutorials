{
 "cells": [
  {
   "cell_type": "markdown",
   "metadata": {},
   "source": [
    "# Tutorial 2.1: Linearizing the Equations of Motion\n",
    "In this tutorial you will learn to linearize the Equations of Motion of the pendulum as covered in the lecture. "
   ]
  },
  {
   "cell_type": "markdown",
   "metadata": {},
   "source": [
    "## Part 1: Kinematic equations\n",
    "\n",
    "We first start by defining the variables. Let's start with the kinematic relations of a pendulum hanging from the point $(x_0, z_0)$."
   ]
  },
  {
   "cell_type": "code",
   "execution_count": 1,
   "metadata": {},
   "outputs": [],
   "source": [
    "from sympy import *\n",
    "\n",
    "var(\"t x1 z1 r phi0\")      \n",
    "phi1 = Function(\"phi1\")(t)\n",
    "x2 = x1 + r*cos(phi1)\n",
    "z2 = z1 + r*sin(phi1)"
   ]
  },
  {
   "cell_type": "markdown",
   "metadata": {},
   "source": [
    "The velocities can then be obtained using:"
   ]
  },
  {
   "cell_type": "code",
   "execution_count": 2,
   "metadata": {},
   "outputs": [],
   "source": [
    "xdot = diff(x2, t)\n",
    "zdot = diff(z2, t)"
   ]
  },
  {
   "cell_type": "markdown",
   "metadata": {},
   "source": [
    "## Part 2: Energy equations\n",
    "### Kinetic energy:\n",
    "The in this system is $m$, such that the kinetic energy is given by:"
   ]
  },
  {
   "cell_type": "code",
   "execution_count": 3,
   "metadata": {},
   "outputs": [
    {
     "data": {
      "text/latex": [
       "$\\displaystyle 0.5 m \\left(r^{2} \\sin^{2}{\\left(\\phi_{1}{\\left(t \\right)} \\right)} \\left(\\frac{d}{d t} \\phi_{1}{\\left(t \\right)}\\right)^{2} + r^{2} \\cos^{2}{\\left(\\phi_{1}{\\left(t \\right)} \\right)} \\left(\\frac{d}{d t} \\phi_{1}{\\left(t \\right)}\\right)^{2}\\right)$"
      ],
      "text/plain": [
       "0.5*m*(r**2*sin(phi1(t))**2*Derivative(phi1(t), t)**2 + r**2*cos(phi1(t))**2*Derivative(phi1(t), t)**2)"
      ]
     },
     "execution_count": 3,
     "metadata": {},
     "output_type": "execute_result"
    }
   ],
   "source": [
    "var(\"m\")\n",
    "T = 0.5*m*(xdot**2 + zdot**2)\n",
    "T.evalf()"
   ]
  },
  {
   "cell_type": "markdown",
   "metadata": {},
   "source": [
    "This expression can be simplified to:"
   ]
  },
  {
   "cell_type": "code",
   "execution_count": 4,
   "metadata": {},
   "outputs": [
    {
     "data": {
      "text/latex": [
       "$\\displaystyle 0.5 m r^{2} \\left(\\frac{d}{d t} \\phi_{1}{\\left(t \\right)}\\right)^{2}$"
      ],
      "text/plain": [
       "0.5*m*r**2*Derivative(phi1(t), t)**2"
      ]
     },
     "execution_count": 4,
     "metadata": {},
     "output_type": "execute_result"
    }
   ],
   "source": [
    "T = simplify(T)\n",
    "T.evalf()"
   ]
  },
  {
   "cell_type": "markdown",
   "metadata": {},
   "source": [
    "### Potential energy:\n",
    "The potential energy on the pendulum is due to gravity:"
   ]
  },
  {
   "cell_type": "code",
   "execution_count": 5,
   "metadata": {},
   "outputs": [
    {
     "data": {
      "text/latex": [
       "$\\displaystyle g m \\left(r \\sin{\\left(\\phi_{1}{\\left(t \\right)} \\right)} + z_{1}\\right)$"
      ],
      "text/plain": [
       "g*m*(r*sin(phi1(t)) + z1)"
      ]
     },
     "execution_count": 5,
     "metadata": {},
     "output_type": "execute_result"
    }
   ],
   "source": [
    "var(\"g\")\n",
    "V = m*g*z2\n",
    "V.evalf()"
   ]
  },
  {
   "cell_type": "markdown",
   "metadata": {},
   "source": [
    "## Step 3: Construct the Lagrangian"
   ]
  },
  {
   "cell_type": "code",
   "execution_count": 6,
   "metadata": {},
   "outputs": [
    {
     "data": {
      "text/latex": [
       "$\\displaystyle - g m \\left(r \\sin{\\left(\\phi_{1}{\\left(t \\right)} \\right)} + z_{1}\\right) + 0.5 m r^{2} \\left(\\frac{d}{d t} \\phi_{1}{\\left(t \\right)}\\right)^{2}$"
      ],
      "text/plain": [
       "-g*m*(r*sin(phi1(t)) + z1) + 0.5*m*r**2*Derivative(phi1(t), t)**2"
      ]
     },
     "execution_count": 6,
     "metadata": {},
     "output_type": "execute_result"
    }
   ],
   "source": [
    "L = T - V\n",
    "L.evalf()"
   ]
  },
  {
   "cell_type": "markdown",
   "metadata": {},
   "source": [
    "## Step 4: Obtaining the EoM\n",
    "\n",
    "In order to obtain the EoMs we have to take derivatives w.r.t. $\\phi_1$ and its velocity. "
   ]
  },
  {
   "cell_type": "code",
   "execution_count": 7,
   "metadata": {},
   "outputs": [
    {
     "data": {
      "text/latex": [
       "$\\displaystyle g m r \\cos{\\left(\\phi_{1}{\\left(t \\right)} \\right)} + 1.0 m r^{2} \\frac{d^{2}}{d t^{2}} \\phi_{1}{\\left(t \\right)}$"
      ],
      "text/plain": [
       "g*m*r*cos(phi1(t)) + 1.0*m*r**2*Derivative(phi1(t), (t, 2))"
      ]
     },
     "execution_count": 7,
     "metadata": {},
     "output_type": "execute_result"
    }
   ],
   "source": [
    "EOM_phi = diff( diff(L, diff(phi1, t)), t) - diff(L, phi1)\n",
    "EOM_phi.evalf()"
   ]
  },
  {
   "cell_type": "markdown",
   "metadata": {},
   "source": [
    "The equation is nonlinear since it depends on the cosine of the angle. We want to obtain a linear function, so let's linearize. We consider a perturbation around the point we want to linearize ($\\phi_0$). We linearize with the following function substitution: $\\phi_1(t) = \\phi_0 + \\epsilon \\psi(t)$. The $\\epsilon$ is added in order to apply the Taylor series expansion. \n",
    "\n",
    "On a technical note: Using SymPy for function substitution can be tricky, hence we will use temporary symbols called `tmp1` and `tmp2` in order to do the substitution."
   ]
  },
  {
   "cell_type": "code",
   "execution_count": 8,
   "metadata": {},
   "outputs": [
    {
     "data": {
      "text/latex": [
       "$\\displaystyle 1.0 \\epsilon m r^{2} \\frac{d^{2}}{d t^{2}} \\psi{\\left(t \\right)} + g m r \\cos{\\left(\\epsilon \\psi{\\left(t \\right)} + \\phi_{0} \\right)}$"
      ],
      "text/plain": [
       "1.0*epsilon*m*r**2*Derivative(psi(t), (t, 2)) + g*m*r*cos(epsilon*psi(t) + phi0)"
      ]
     },
     "execution_count": 8,
     "metadata": {},
     "output_type": "execute_result"
    }
   ],
   "source": [
    "var(\"phi0 epsilon\")\n",
    "psi = Function(\"psi\")(t)\n",
    "\n",
    "tmp1, tmp2 = symbols(\"tmp1 tmp2\")\n",
    "EOM_phi = EOM_phi.evalf(subs={diff(phi1, (t, 2)): tmp2, phi1: tmp1})\n",
    "EOM_phi = EOM_phi.evalf(subs={tmp2: diff(phi0 + epsilon*psi, (t, 2)), tmp1: phi0 + epsilon*psi})\n",
    "EOM_phi.evalf()\n"
   ]
  },
  {
   "cell_type": "markdown",
   "metadata": {},
   "source": [
    "Now, we can apply the Taylor series expansion using the function $\\epsilon$ as a variable."
   ]
  },
  {
   "cell_type": "code",
   "execution_count": 11,
   "metadata": {},
   "outputs": [
    {
     "data": {
      "text/latex": [
       "$\\displaystyle g m r \\cos{\\left(\\phi_{0} \\right)} + \\epsilon \\left(- g m r \\psi{\\left(t \\right)} \\sin{\\left(\\phi_{0} \\right)} + 1.0 m r^{2} \\frac{d^{2}}{d t^{2}} \\psi{\\left(t \\right)}\\right) + O\\left(\\epsilon^{2}\\right)$"
      ],
      "text/plain": [
       "g*m*r*cos(phi0) + epsilon*(-g*m*r*psi(t)*sin(phi0) + 1.0*m*r**2*Derivative(psi(t), (t, 2))) + O(epsilon**2)"
      ]
     },
     "execution_count": 11,
     "metadata": {},
     "output_type": "execute_result"
    }
   ],
   "source": [
    "EOM_lin = series(EOM_phi, epsilon, n=2)\n",
    "EOM_lin.evalf()"
   ]
  },
  {
   "cell_type": "markdown",
   "metadata": {},
   "source": [
    "Then, we obtain the linearized EOM by setting $\\epsilon = 1$."
   ]
  },
  {
   "cell_type": "code",
   "execution_count": 18,
   "metadata": {},
   "outputs": [
    {
     "data": {
      "text/latex": [
       "$\\displaystyle - g m r \\psi{\\left(t \\right)} \\sin{\\left(\\phi_{0} \\right)} + g m r \\cos{\\left(\\phi_{0} \\right)} + 1.0 m r^{2} \\frac{d^{2}}{d t^{2}} \\psi{\\left(t \\right)}$"
      ],
      "text/plain": [
       "-g*m*r*psi(t)*sin(phi0) + g*m*r*cos(phi0) + 1.0*m*r**2*Derivative(psi(t), (t, 2))"
      ]
     },
     "execution_count": 18,
     "metadata": {},
     "output_type": "execute_result"
    }
   ],
   "source": [
    "EOM_lin = EOM_lin.removeO().evalf(subs={epsilon: 1})\n",
    "EOM_lin.evalf()"
   ]
  },
  {
   "cell_type": "markdown",
   "metadata": {},
   "source": [
    "We see that we get an expression that only depends on (linearly) on the perturbation $\\psi(t)$. Isolating the second derivative with respect to time of the perturbation, we get the final expression of the linearized system."
   ]
  },
  {
   "cell_type": "code",
   "execution_count": 19,
   "metadata": {},
   "outputs": [
    {
     "data": {
      "text/latex": [
       "$\\displaystyle \\frac{g \\left(\\psi{\\left(t \\right)} \\sin{\\left(\\phi_{0} \\right)} - \\cos{\\left(\\phi_{0} \\right)}\\right)}{r}$"
      ],
      "text/plain": [
       "g*(psi(t)*sin(phi0) - cos(phi0))/r"
      ]
     },
     "execution_count": 19,
     "metadata": {},
     "output_type": "execute_result"
    }
   ],
   "source": [
    "EOM_lin_iso = solve(EOM_lin, diff(psi, (t, 2)))\n",
    "EOM_lin_iso[0].evalf()"
   ]
  },
  {
   "cell_type": "markdown",
   "metadata": {},
   "source": [
    "In this problem, our initial angle is $\\phi_0 = 3*\\frac{\\pi}{2}$, then the final Equation of Motion will be:"
   ]
  },
  {
   "cell_type": "code",
   "execution_count": 21,
   "metadata": {},
   "outputs": [
    {
     "data": {
      "text/latex": [
       "$\\displaystyle - \\frac{g \\psi{\\left(t \\right)}}{r}$"
      ],
      "text/plain": [
       "-g*psi(t)/r"
      ]
     },
     "execution_count": 21,
     "metadata": {},
     "output_type": "execute_result"
    }
   ],
   "source": [
    "EOM_lin_iso[0].evalf(subs={phi0: 3*pi/2})"
   ]
  },
  {
   "cell_type": "markdown",
   "metadata": {},
   "source": [
    "### Remarks\n",
    "\n",
    "1) The problem studied here is already linear with respect to the accelerations and does not depend on velocities. If we had a nonlinear dependency on accelerations and/or velocities, we should have taken into account the gradients with respect these two quantities.\n",
    "2) For a multiple DOF system, this process has to be done for all the EOM associated to each DOF.\n"
   ]
  }
 ],
 "metadata": {
  "interpreter": {
   "hash": "8661b582be0f012a274b7385348a70dad23ce1ee0d922b32977c503b98c884f2"
  },
  "kernelspec": {
   "display_name": "Python 3.9.7 ('base')",
   "language": "python",
   "name": "python3"
  },
  "language_info": {
   "codemirror_mode": {
    "name": "ipython",
    "version": 3
   },
   "file_extension": ".py",
   "mimetype": "text/x-python",
   "name": "python",
   "nbconvert_exporter": "python",
   "pygments_lexer": "ipython3",
   "version": "3.9.7"
  },
  "orig_nbformat": 4
 },
 "nbformat": 4,
 "nbformat_minor": 2
}
