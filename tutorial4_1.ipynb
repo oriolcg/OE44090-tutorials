{
 "cells": [
  {
   "cell_type": "markdown",
   "metadata": {},
   "source": [
    "# Tutorial 4: FEM for a rod\n",
    "In this tutorial we will learn how to define the FEM to solve a rod subject to axial loading. The equation of motion of a rod is given by the following PDE:\n",
    "\n",
    "$$ \\rho A \\frac{\\partial^2 u(x,t)}{\\partial t^2} - EA \\frac{\\partial^2u(x,t)}{\\partial x^2} = q(x) $$\n",
    "\n",
    "We consider that the rod has the following properties:\n",
    "\n",
    "- Length of $L = 3$ $m$\n",
    "- Fixed at $x=0$, that means $u(0,t) = 0 \\forall t $\n",
    "- The rod is at rest initially, $u(x,0) = 0$ and $\\dot{u}(x,0) = 0$\n",
    "- A dynamic point load $P=10e3 sin(2\\pi t)$ $N$ is applied at $x=L$\n",
    "- $\\rho = 8.0e3$ $kg/m^3$\n",
    "- $A = 0.01$ $m^2$\n",
    "- $E = 2.1e9$ $Pa$"
   ]
  },
  {
   "cell_type": "code",
   "execution_count": 27,
   "metadata": {},
   "outputs": [],
   "source": [
    "import numpy as np\n",
    "import matplotlib.pyplot as plt\n",
    "\n",
    "# Parameters\n",
    "L = 3\n",
    "u0 = 0\n",
    "u0_dt2 = 0\n",
    "def P(t):\n",
    "    return 10e3*np.sin(2*np.pi*t)\n",
    "rho = 8.0e3\n",
    "rho2 = 8.0e4\n",
    "A = 1e-2\n",
    "E = 2.1e9\n"
   ]
  },
  {
   "cell_type": "markdown",
   "metadata": {},
   "source": [
    "## Step 1: discretize the domain\n",
    "We consider a discretization made out of $n_e = 5$ elements equally spaced."
   ]
  },
  {
   "cell_type": "code",
   "execution_count": 28,
   "metadata": {},
   "outputs": [],
   "source": [
    "ne = 5\n",
    "nn = ne + 1\n",
    "xn = np.linspace(0, L, nn)"
   ]
  },
  {
   "cell_type": "markdown",
   "metadata": {},
   "source": [
    "Let's plot the discretization"
   ]
  },
  {
   "cell_type": "code",
   "execution_count": 29,
   "metadata": {},
   "outputs": [
    {
     "data": {
      "text/plain": [
       "[<matplotlib.lines.Line2D at 0x7fd492a3a430>]"
      ]
     },
     "execution_count": 29,
     "metadata": {},
     "output_type": "execute_result"
    },
    {
     "data": {
      "image/png": "[encoded data removed]",
      "text/plain": [
       "<Figure size 432x288 with 1 Axes>"
      ]
     },
     "metadata": {
      "needs_background": "light"
     },
     "output_type": "display_data"
    }
   ],
   "source": [
    "nodes = (xn, np.ones(nn))\n",
    "plt.figure()\n",
    "plt.plot(nodes[0], nodes[1],\"o-\")\n"
   ]
  },
  {
   "cell_type": "markdown",
   "metadata": {},
   "source": [
    "We will need the information of the element-nodes connectivity, that is the nodes attached to each element. "
   ]
  },
  {
   "cell_type": "code",
   "execution_count": 30,
   "metadata": {},
   "outputs": [],
   "source": [
    "elem_nodes = []\n",
    "for ie in np.arange(0,ne):\n",
    "    elem_nodes.append([ie, ie+1])"
   ]
  },
  {
   "cell_type": "markdown",
   "metadata": {},
   "source": [
    "This will give us a table with the index of the ndoes attached to each element:"
   ]
  },
  {
   "cell_type": "code",
   "execution_count": 31,
   "metadata": {},
   "outputs": [
    {
     "name": "stdout",
     "output_type": "stream",
     "text": [
      "Element  Node-1   Node-2  \n",
      "0                  0                1               \n",
      "1                  1                2               \n",
      "2                  2                3               \n",
      "3                  3                4               \n",
      "4                  4                5               \n"
     ]
    }
   ],
   "source": [
    "dicts = {}\n",
    "for i in np.arange(0,ne):\n",
    "    dicts[i] = elem_nodes[i]\n",
    "print (\"{:<8} {:<8} {:<8}\".format('Element','Node-1','Node-2'))\n",
    "for k,v in dicts.items():\n",
    "    print(\"{:<18} {:<16} {:<16}\".format(str(k), str(v[0]), str(v[1])))"
   ]
  },
  {
   "cell_type": "markdown",
   "metadata": {},
   "source": [
    "## Step 2: define the shape functions\n",
    "Here we assume that the displacement can be well captured by a piece-wise lienar function, so we make the modeling choice of selecting linear shape functions. \n",
    "\n",
    "For each element, the shape functions associated to node 1 and 2 are to be defined by:\n",
    "\n",
    "$$ N_1^k = \\frac{x_2-x}{h}, \\quad N_1^{'k} = \\frac{-1}{h} $$\n",
    "$$ N_2^k = \\frac{x-x_1}{h}, \\quad N_2^{'k} = \\frac{1}{h} $$\n",
    "\n",
    "where $h=x_2-x_1$. Since all the nodes are equally distributed: $h=\\frac{L}{N}$."
   ]
  },
  {
   "cell_type": "code",
   "execution_count": 32,
   "metadata": {},
   "outputs": [
    {
     "name": "stdout",
     "output_type": "stream",
     "text": [
      "[0, 1]\n",
      "[1, 2]\n",
      "[2, 3]\n",
      "[3, 4]\n",
      "[4, 5]\n"
     ]
    }
   ],
   "source": [
    "h = L/ne\n",
    "N = []\n",
    "dN = []\n",
    "for ie in np.arange(0,ne):\n",
    "    nodes = elem_nodes[ie]\n",
    "    print(nodes)\n",
    "    xe = xn[nodes]\n",
    "    N.append([lambda x: (xe[1]-x)/h, lambda x: (x-xe[0])/h])\n",
    "    dN.append([lambda x: -1/h + 0.0*x, lambda x: 1/h + 0.0*x])"
   ]
  },
  {
   "cell_type": "markdown",
   "metadata": {},
   "source": [
    "Let's see how these functions look like:"
   ]
  },
  {
   "cell_type": "code",
   "execution_count": 33,
   "metadata": {},
   "outputs": [
    {
     "data": {
      "text/plain": [
       "Text(0.5, 1.0, 'Shape function derivatives')"
      ]
     },
     "execution_count": 33,
     "metadata": {},
     "output_type": "execute_result"
    },
    {
     "data": {
      "image/png": "[encoded data removed]",
      "text/plain": [
       "<Figure size 432x288 with 1 Axes>"
      ]
     },
     "metadata": {
      "needs_background": "light"
     },
     "output_type": "display_data"
    },
    {
     "data": {
      "image/png": "[encoded data removed]",
      "text/plain": [
       "<Figure size 432x288 with 1 Axes>"
      ]
     },
     "metadata": {
      "needs_background": "light"
     },
     "output_type": "display_data"
    }
   ],
   "source": [
    "plt.figure()\n",
    "color = iter(plt.cm.rainbow(np.linspace(0,1,ne+1)))\n",
    "c=next(color)\n",
    "for ie in np.arange(0,ne):\n",
    "    nodes = elem_nodes[ie]\n",
    "    xe = xn[nodes]\n",
    "    # Manage color scheme\n",
    "    prev=c\n",
    "    c=next(color)\n",
    "    p=[prev,c]\n",
    "    for i in np.arange(0,len(nodes)):\n",
    "        plt.plot(xe,N[ie][i](xe),c=p[i])\n",
    "plt.title(\"Shape functions\")\n",
    "\n",
    "plt.figure()\n",
    "color = iter(plt.cm.rainbow(np.linspace(0,1,ne+1)))\n",
    "c=next(color)\n",
    "for ie in np.arange(0,ne):\n",
    "    nodes = elem_nodes[ie]\n",
    "    xe = xn[nodes]\n",
    "    # Manage color scheme\n",
    "    prev=c\n",
    "    c=next(color)\n",
    "    p=[prev,c]\n",
    "    for i in np.arange(0,len(nodes)):\n",
    "        plt.plot(xe,dN[ie][i](xe),c=p[i])\n",
    "plt.title(\"Shape function derivatives\")"
   ]
  },
  {
   "cell_type": "markdown",
   "metadata": {},
   "source": [
    "Note that here we are storing four functions at each element. This is not affordable for large systems. To be more efficient, FEM codes typically use an isoparametric element where the functions and derivatives are defined, and apply the corresponding transformations when performing the integrals. This approach is not covered in this tutorial. "
   ]
  },
  {
   "cell_type": "markdown",
   "metadata": {},
   "source": [
    "## Step 3: computation of the elemental matrices\n",
    "In the theory we have seen that the mass and stiffness matrices for the rod problem can be computed as:\n",
    "\n",
    "$$ M_{a,b}^k = \\int_{x_a}^{x_b} \\rho A N_a^k(x)N_b^{k}(x)dx $$\n",
    "$$ K_{a,b}^k = \\int_{x_a}^{x_b} E A N_a^{'k}(x)N_b^{'k}(x)dx $$\n",
    "\n",
    "Here we can use the two approaches to compute these matrices: symbolically or numerically.\n",
    "\n",
    "### Symbolic computation of the integral:\n",
    "Here we make use of the capabilities of Python to perform symbolic operations. In that case we perform a symbolic integral with respect to the variable $x$, and we evaluate the integral between the element nodes. In Python symbolic operations can be done using the SymPy package. \n",
    "\n",
    "For more information see: https://docs.sympy.org/latest/index.html"
   ]
  },
  {
   "cell_type": "code",
   "execution_count": 34,
   "metadata": {},
   "outputs": [],
   "source": [
    "import sympy as smp\n",
    "x = smp.Symbol('x')\n",
    "M_k_sym = []\n",
    "for ie in np.arange(0,ne):\n",
    "    nodes = elem_nodes[ie]\n",
    "    xe = xn[nodes]\n",
    "    M_k_sym.append(np.zeros((2,2)))\n",
    "    for i in np.arange(0,len(nodes)):\n",
    "        for j in np.arange(0,len(nodes)):\n",
    "            eqn = rho*A*N[ie][i](x)*N[ie][j](x)\n",
    "            M_k_sym[ie][i,j] = smp.integrate(eqn,(x, xe[0], xe[1]))"
   ]
  },
  {
   "cell_type": "markdown",
   "metadata": {},
   "source": [
    "We know that the elemental mass matrix should be:\n",
    "\n",
    "$$ \\bold{M}^k = \\frac{\\rho A h}{6} \\begin{bmatrix} 2 & 1 \\\\ 1 & 2 \\end{bmatrix} = \\begin{bmatrix} 16 & 8 \\\\ 8 & 16 \\end{bmatrix} $$\n",
    "\n",
    "and we see that the computed matrices give the desired result:"
   ]
  },
  {
   "cell_type": "code",
   "execution_count": 35,
   "metadata": {},
   "outputs": [
    {
     "name": "stdout",
     "output_type": "stream",
     "text": [
      "[[16.  8.]\n",
      " [ 8. 16.]]\n"
     ]
    }
   ],
   "source": [
    "print(M_k_sym[0])"
   ]
  },
  {
   "cell_type": "markdown",
   "metadata": {},
   "source": [
    "-----------------------------------------------------------------------------------------------------\n",
    "**Problem:** Do the same operations for the stiffnes matrix and check that you get the same result as the one given in the theory lessons.\n",
    "\n",
    "-----------------------------------------------------------------------------------------------------"
   ]
  },
  {
   "cell_type": "code",
   "execution_count": 36,
   "metadata": {},
   "outputs": [
    {
     "name": "stdout",
     "output_type": "stream",
     "text": [
      "[[ 35000000. -35000000.]\n",
      " [-35000000.  35000000.]]\n"
     ]
    }
   ],
   "source": [
    "# Implement the symbolic computation of the integrals for the stiffness matrix here\n",
    "x = smp.Symbol('x')\n",
    "K_k_sym = []\n",
    "for ie in np.arange(0,ne):\n",
    "    nodes = elem_nodes[ie]\n",
    "    xe = xn[nodes]\n",
    "    K_k_sym.append(np.zeros((2,2)))\n",
    "    for i in np.arange(0,len(nodes)):\n",
    "        for j in np.arange(0,len(nodes)):\n",
    "            eqn = E*A*dN[ie][i](x)*dN[ie][j](x)\n",
    "            K_k_sym[ie][i,j] = smp.integrate(eqn,(x, xe[0], xe[1]))\n",
    "print(K_k_sym[0])"
   ]
  },
  {
   "cell_type": "markdown",
   "metadata": {},
   "source": [
    "### Numerical computation of the integral:\n",
    "The symbolic computation of an integral is very computationally expensive, and not advisable for large matrices. An alternative is to perform a numerical integration using quadrature formulas. \n",
    "\n",
    "Here we will use a quadrature rule that approximates the integral as \n",
    "\n",
    "$$ \\int f(x) dx \\approx \\sum_{q=1}^{n_q} f(x_q)w_q $$\n",
    "\n",
    "where $n_q$ is the number of quadrature points and $w_q$ is the quadrature point weight. The number of quadrature points will determine the accuracy of the integral. For instance, in a Gauss quadrature rule, a quadrature with $n_q$ points can integrate exactly functions of order $2n_q -1$. In our case, the mass matric will be second order, since we have the product of two linear shape functions. Therefore, we need at least two quadratue points. This will be internally handled by Python when we call the function `quad` from the SciPy integration package. \n",
    "\n",
    "NOTE: the function `quad` from SciPy returns a tuple: (integrand value, estimated absolute error), hence the `[0]` is added at the end of the last line as we are only interested in the value. \n",
    "\n",
    "For more information see: https://docs.scipy.org/doc/scipy/tutorial/integrate.html and https://docs.scipy.org/doc/scipy/reference/index.html#"
   ]
  },
  {
   "cell_type": "code",
   "execution_count": 37,
   "metadata": {},
   "outputs": [],
   "source": [
    "del x   # need to remove the symbolic x-variable when switching to scipy (only once)"
   ]
  },
  {
   "cell_type": "code",
   "execution_count": 38,
   "metadata": {},
   "outputs": [],
   "source": [
    "import scipy.integrate as scp\n",
    "M_k_num = []\n",
    "for ie in np.arange(0,2):\n",
    "    nodes = elem_nodes[ie]\n",
    "    xe = xn[nodes]\n",
    "    M_k_num.append(np.zeros((2,2)))\n",
    "    for i in np.arange(0,len(nodes)):\n",
    "        for j in np.arange(0,len(nodes)):\n",
    "            def eqn(x):\n",
    "                return rho*A*N[ie][i](x)*N[ie][j](x)\n",
    "            M_k_num[ie][i,j] = scp.quad(eqn, xe[0], xe[1])[0]\n",
    "\n",
    "for ie in np.arange(2,ne):\n",
    "    nodes = elem_nodes[ie]\n",
    "    xe = xn[nodes]\n",
    "    M_k_num.append(np.zeros((2,2)))\n",
    "    for i in np.arange(0,len(nodes)):\n",
    "        for j in np.arange(0,len(nodes)):\n",
    "            def eqn(x):\n",
    "                return rho2*A*N[ie][i](x)*N[ie][j](x)\n",
    "            M_k_num[ie][i,j] = scp.quad(eqn, xe[0], xe[1])[0]\n",
    "\n",
    "M_k_num[4][1,1] = M_k_num[4][1,1] + 1e3"
   ]
  },
  {
   "cell_type": "markdown",
   "metadata": {},
   "source": [
    "Again, we display the matrix value to ensure that it is well computed:"
   ]
  },
  {
   "cell_type": "code",
   "execution_count": 39,
   "metadata": {},
   "outputs": [
    {
     "name": "stdout",
     "output_type": "stream",
     "text": [
      "[[16.  8.]\n",
      " [ 8. 16.]]\n",
      "Rounding errors for numerical integration: 1.7763568394002505e-15\n"
     ]
    }
   ],
   "source": [
    "print(M_k_num[0])\n",
    "print(\"Rounding errors for numerical integration: \"+str(abs(M_k_num[0]-M_k_sym[0])[0,0]))"
   ]
  },
  {
   "cell_type": "markdown",
   "metadata": {},
   "source": [
    "Note that, since it is a numerical operation, we get rounding errors This is why the values are not exact integers as obtained with the symbolic computation.\n",
    "\n",
    "We do the same operation for the stiffness matrix."
   ]
  },
  {
   "cell_type": "code",
   "execution_count": 40,
   "metadata": {},
   "outputs": [],
   "source": [
    "K_k_num = []\n",
    "for ie in np.arange(0,2):\n",
    "    nodes = elem_nodes[ie]\n",
    "    xe = xn[nodes]\n",
    "    K_k_num.append(np.zeros((2,2)))\n",
    "    for i in np.arange(0,len(nodes)):\n",
    "        for j in np.arange(0,len(nodes)):\n",
    "            def eqn(x):\n",
    "                return E*A*dN[ie][i](x)*dN[ie][j](x)\n",
    "            K_k_num[ie][i,j] = scp.quad(eqn, xe[0], xe[1])[0]\n",
    "\n",
    "for ie in np.arange(2,ne):\n",
    "    nodes = elem_nodes[ie]\n",
    "    xe = xn[nodes]\n",
    "    K_k_num.append(np.zeros((2,2)))\n",
    "    for i in np.arange(0,len(nodes)):\n",
    "        for j in np.arange(0,len(nodes)):\n",
    "            def eqn(x):\n",
    "                return E*A*dN[ie][i](x)*dN[ie][j](x) + E*A*dN[ie][i](x)*N[ie][j](x)\n",
    "            K_k_num[ie][i,j] = scp.quad(eqn, xe[0], xe[1])[0]"
   ]
  },
  {
   "cell_type": "markdown",
   "metadata": {},
   "source": [
    "The elemental stiffness matrix should be: \n",
    "\n",
    "$$ \\bold{K}^k = \\frac{EA}{h} \\begin{bmatrix} 1 & -1 \\\\ 1 & -1 \\end{bmatrix} = 3.5e7 \\begin{bmatrix} 1 & -1 \\\\ -1 & 1 \\end{bmatrix} $$"
   ]
  },
  {
   "cell_type": "code",
   "execution_count": 41,
   "metadata": {},
   "outputs": [
    {
     "name": "stdout",
     "output_type": "stream",
     "text": [
      "[[ 35000000. -35000000.]\n",
      " [-35000000.  35000000.]]\n"
     ]
    }
   ],
   "source": [
    "print(K_k_num[0])"
   ]
  },
  {
   "cell_type": "markdown",
   "metadata": {},
   "source": [
    "## Step 4: global assembly\n",
    "To construct the global matrices we add all the elemental contributions to the corresponding nodes."
   ]
  },
  {
   "cell_type": "code",
   "execution_count": 42,
   "metadata": {},
   "outputs": [],
   "source": [
    "M = np.zeros(nn*nn)\n",
    "K = np.zeros(nn*nn)\n",
    "for ie in np.arange(0,ne):\n",
    "    nodes = np.array(elem_nodes[ie])\n",
    "    for i in np.arange(0, 2):\n",
    "        for j in np.arange(0, 2):\n",
    "            ij = nodes[i] + nodes[j]*nn\n",
    "            M[ij] = M[ij] + M_k_num[ie][i,j]\n",
    "            K[ij] = K[ij] + K_k_num[ie][i,j]\n",
    "\n",
    "# Reshape the global matrix from a 1-dimensional array to a 2-dimensional array\n",
    "M = M.reshape((nn, nn))\n",
    "K = K.reshape((nn, nn))"
   ]
  },
  {
   "cell_type": "markdown",
   "metadata": {},
   "source": [
    "Now we have the global mass and stiffness matrices:"
   ]
  },
  {
   "cell_type": "code",
   "execution_count": 43,
   "metadata": {},
   "outputs": [
    {
     "name": "stdout",
     "output_type": "stream",
     "text": [
      "[[  16.    8.    0.    0.    0.    0.]\n",
      " [   8.   32.    8.    0.    0.    0.]\n",
      " [   0.    8.  176.   80.    0.    0.]\n",
      " [   0.    0.   80.  320.   80.    0.]\n",
      " [   0.    0.    0.   80.  320.   80.]\n",
      " [   0.    0.    0.    0.   80. 1160.]]\n",
      "[[ 35000000.         -35000000.                 0.\n",
      "          0.                 0.                 0.        ]\n",
      " [-35000000.          70000000.         -35000000.\n",
      "          0.                 0.                 0.        ]\n",
      " [        0.         -35000000.          59500000.\n",
      "  -24500000.                 0.                 0.        ]\n",
      " [        0.                 0.         -45499999.99999999\n",
      "   69999999.99999999 -24499999.99999999         0.        ]\n",
      " [        0.                 0.                 0.\n",
      "  -45499999.99999999  70000000.         -24500000.00000001]\n",
      " [        0.                 0.                 0.\n",
      "          0.         -45500000.00000001  45500000.00000001]]\n"
     ]
    }
   ],
   "source": [
    "print(M)\n",
    "print(K)"
   ]
  },
  {
   "cell_type": "markdown",
   "metadata": {},
   "source": [
    "In the right-hand-side, we will have a vector that accounts for the external forces. In that case, we have a point load at the last node, so we define the global vector directly as"
   ]
  },
  {
   "cell_type": "code",
   "execution_count": 44,
   "metadata": {},
   "outputs": [],
   "source": [
    "def Q(t):\n",
    "    return np.append(np.zeros((nn-1,1)), P(t))"
   ]
  },
  {
   "cell_type": "markdown",
   "metadata": {},
   "source": [
    "We just need to apply the boundary conditions and we'll be set to solve.\n",
    "\n",
    "To apply the boundary conditions, we will remove the rows associated to the fixed DOFs and add the contribution to the right-hand-side. First, we identify the free and fixed DOFs."
   ]
  },
  {
   "cell_type": "code",
   "execution_count": 45,
   "metadata": {},
   "outputs": [],
   "source": [
    "fixed_dofs = np.array([0])\n",
    "free_dofs = np.arange(0,nn)\n",
    "free_dofs = np.delete(free_dofs, fixed_dofs)    # remove the fixed DOFs from the free DOFs array\n",
    "\n",
    "# free & fixed array indices\n",
    "fx = free_dofs[:, np.newaxis]\n",
    "fy = free_dofs[np.newaxis, :]\n",
    "bx = fixed_dofs[:, np.newaxis]\n",
    "by = fixed_dofs[np.newaxis, :]"
   ]
  },
  {
   "cell_type": "markdown",
   "metadata": {},
   "source": [
    "We can re-order the matrices and vectors in blocks, such that it's easy to operate with the blocks corresponding with the fixed DOFs. We'll use the notation $_I$ to designate an interior DOF and $_B$ to designate a boundary node. \n",
    "\n",
    "$$ \\begin{bmatrix} \\bold{M}_{II} & \\bold{M}_{IB} \\\\ \\bold{M}_{BI} &\\bold{M}_{BB} \\end{bmatrix}, \\quad \\begin{bmatrix} \\bold{K}_{II} & \\bold{K}_{IB} \\\\ \\bold{K}_{BI} &\\bold{K}_{BB} \\end{bmatrix}, \\quad \\begin{bmatrix} \\bold{Q}_{I}  \\\\ \\bold{Q}_{B}  \\end{bmatrix} $$\n",
    "\n"
   ]
  },
  {
   "cell_type": "code",
   "execution_count": 46,
   "metadata": {},
   "outputs": [],
   "source": [
    "Mii = M[fx, fy]\n",
    "Mib = M[fx, by]\n",
    "Mbi = M[bx, fy]\n",
    "Mbb = M[bx, by]\n",
    "\n",
    "Kii = K[fx, fy]\n",
    "Kib = K[fx, by]\n",
    "Kbi = K[bx, fy]\n",
    "Kbb = K[bx, by]"
   ]
  },
  {
   "cell_type": "markdown",
   "metadata": {},
   "source": [
    "Now operating with the different blocks, we can get a system of ODEs for the free DOFs, which is given by: \n",
    "\n",
    "$$ \\bold{M}_{II}\\bold{\\ddot{u}}_I + \\bold{K}_{II} \\bold{u}_I = \\bold{Q}_I - \\bold{M}_{IB}\\bold{\\ddot{u}}_B - \\bold{K}_{IB} \\bold{u}_B $$"
   ]
  },
  {
   "cell_type": "code",
   "execution_count": 47,
   "metadata": {},
   "outputs": [],
   "source": [
    "ub = np.array([u0])\n",
    "ub_dt2 = np.array([u0_dt2])\n",
    "RHS = -Mib*ub_dt2-Kib*ub"
   ]
  },
  {
   "cell_type": "markdown",
   "metadata": {},
   "source": [
    "## Step 5: solving the ODE\n",
    "At this point we have all the information to solve the ODE for each DOF. We can use what we learned in the previous modules."
   ]
  },
  {
   "cell_type": "code",
   "execution_count": 48,
   "metadata": {},
   "outputs": [
    {
     "data": {
      "text/plain": [
       "Text(0.5, 0, 'Time [s]')"
      ]
     },
     "execution_count": 48,
     "metadata": {},
     "output_type": "execute_result"
    },
    {
     "data": {
      "image/png": "[encoded data removed]",
      "text/plain": [
       "<Figure size 432x288 with 1 Axes>"
      ]
     },
     "metadata": {
      "needs_background": "light"
     },
     "output_type": "display_data"
    }
   ],
   "source": [
    "# Construct a matrix to reshape Q \n",
    "R = np.identity(nn)\n",
    "R = R[fx, 0:nn]\n",
    "\n",
    "# Set Dimensions and initial conditions of state vector\n",
    "nfdofs = len(free_dofs)\n",
    "udofs = np.arange(0, nfdofs)\n",
    "vdofs = np.arange(nfdofs, 2*nfdofs)\n",
    "q0 = np.zeros((2*nfdofs))\n",
    "\n",
    "# Time span (output purposes)\n",
    "tf = 20\n",
    "tspan = np.arange(0, tf, 0.05)\n",
    "\n",
    "# Solve\n",
    "def odefun(t, q):\n",
    "    return np.append(q[vdofs], np.linalg.solve(Mii, (np.dot(R, Q(t)) + RHS - np.dot(Kii, q[udofs]).reshape(-1, 1)))).tolist()\n",
    "sol = scp.solve_ivp(fun=odefun, t_span=[tspan[0], tspan[-1]], y0=q0, t_eval=tspan)  \n",
    "\n",
    "# Plot results\n",
    "plt.figure()\n",
    "plt.plot(sol.t,sol.y[1])\n",
    "plt.xlabel('Time [s]')"
   ]
  }
 ],
 "metadata": {
  "interpreter": {
   "hash": "8661b582be0f012a274b7385348a70dad23ce1ee0d922b32977c503b98c884f2"
  },
  "kernelspec": {
   "display_name": "Python 3.9.7 ('base')",
   "language": "python",
   "name": "python3"
  },
  "language_info": {
   "codemirror_mode": {
    "name": "ipython",
    "version": 3
   },
   "file_extension": ".py",
   "mimetype": "text/x-python",
   "name": "python",
   "nbconvert_exporter": "python",
   "pygments_lexer": "ipython3",
   "version": "3.9.7"
  },
  "orig_nbformat": 4
 },
 "nbformat": 4,
 "nbformat_minor": 2
}
