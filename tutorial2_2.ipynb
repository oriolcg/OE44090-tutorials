{
 "cells": [
  {
   "cell_type": "markdown",
   "metadata": {},
   "source": [
    "# Tutorial 2.2: Deriving the EOM of the pendulum covered during the lecture\n",
    "In this tutorial you will learn to derive the Equations of Motion of the pendulum as covered in the lecture. "
   ]
  },
  {
   "cell_type": "markdown",
   "metadata": {},
   "source": [
    "## Part 1: Kinematic equations\n",
    "Using the following rotation matrix R($\\phi$): https://en.wikipedia.org/wiki/Rotation_matrix\n",
    "The zero angle points to the right for this matrix.\n",
    "\n",
    "We first start by defining the variables. Assuming that x1, z1 and r1 do not change in time:"
   ]
  },
  {
   "cell_type": "code",
   "execution_count": 38,
   "metadata": {},
   "outputs": [],
   "source": [
    "from sympy import *\n",
    "\n",
    "var(\"t s x1 z1 r1\")      \n",
    "phi1 = Function(\"phi1\")(t)\n",
    "phi2 = Function(\"phi2\")(t)\n",
    "\n",
    "x2 = x1 + r1*cos(phi1)\n",
    "z2 = z1 + r1*sin(phi1)\n",
    "x3 = x2 + s*cos(phi2)\n",
    "z3 = z2 + s*sin(phi2)"
   ]
  },
  {
   "cell_type": "markdown",
   "metadata": {},
   "source": [
    "The velocities can then be obtained using:"
   ]
  },
  {
   "cell_type": "code",
   "execution_count": 39,
   "metadata": {},
   "outputs": [],
   "source": [
    "x2_velo = diff(x2, t)\n",
    "z2_velo = diff(z2, t)\n",
    "x3_velo = diff(x3, t)\n",
    "z3_velo = diff(z3, t)"
   ]
  },
  {
   "cell_type": "markdown",
   "metadata": {},
   "source": [
    "## Part 2: Energy equations\n",
    "### Kinetic energy:\n",
    "The only mass in this system is the point mass located at P2 with mass $M$"
   ]
  },
  {
   "cell_type": "code",
   "execution_count": 40,
   "metadata": {},
   "outputs": [
    {
     "data": {
      "text/latex": [
       "$\\displaystyle 0.5 M \\left(r_{1}^{2} \\sin^{2}{\\left(\\phi_{1}{\\left(t \\right)} \\right)} \\left(\\frac{d}{d t} \\phi_{1}{\\left(t \\right)}\\right)^{2} + r_{1}^{2} \\cos^{2}{\\left(\\phi_{1}{\\left(t \\right)} \\right)} \\left(\\frac{d}{d t} \\phi_{1}{\\left(t \\right)}\\right)^{2}\\right)$"
      ],
      "text/plain": [
       "0.5*M*(r1**2*sin(phi1(t))**2*Derivative(phi1(t), t)**2 + r1**2*cos(phi1(t))**2*Derivative(phi1(t), t)**2)"
      ]
     },
     "execution_count": 40,
     "metadata": {},
     "output_type": "execute_result"
    }
   ],
   "source": [
    "var(\"M\")\n",
    "T = 0.5*M*(x2_velo**2 + z2_velo**2)\n",
    "T.evalf()"
   ]
  },
  {
   "cell_type": "markdown",
   "metadata": {},
   "source": [
    "This expression can be simplified to:"
   ]
  },
  {
   "cell_type": "code",
   "execution_count": 41,
   "metadata": {},
   "outputs": [
    {
     "data": {
      "text/latex": [
       "$\\displaystyle 0.5 M r_{1}^{2} \\left(\\frac{d}{d t} \\phi_{1}{\\left(t \\right)}\\right)^{2}$"
      ],
      "text/plain": [
       "0.5*M*r1**2*Derivative(phi1(t), t)**2"
      ]
     },
     "execution_count": 41,
     "metadata": {},
     "output_type": "execute_result"
    }
   ],
   "source": [
    "T = simplify(T)\n",
    "T.evalf()"
   ]
  },
  {
   "cell_type": "markdown",
   "metadata": {},
   "source": [
    "### Potential energy:\n",
    "Assuming again that $l0$, the original length of the spring, does not change in time, then the elongation of the spring $dl$ is given by:"
   ]
  },
  {
   "cell_type": "code",
   "execution_count": 42,
   "metadata": {},
   "outputs": [
    {
     "data": {
      "text/latex": [
       "$\\displaystyle - l_{0} + \\left(\\left(- r_{1} \\sin{\\left(\\phi_{1}{\\left(t \\right)} \\right)} - z_{1} + z_{3}\\right)^{2} + \\left(- r_{1} \\cos{\\left(\\phi_{1}{\\left(t \\right)} \\right)} - x_{1} + x_{3}\\right)^{2}\\right)^{0.5}$"
      ],
      "text/plain": [
       "-l0 + ((-r1*sin(phi1(t)) - z1 + z3)**2 + (-r1*cos(phi1(t)) - x1 + x3)**2)**0.5"
      ]
     },
     "execution_count": 42,
     "metadata": {},
     "output_type": "execute_result"
    }
   ],
   "source": [
    "var(\"dx dz l0 x3 z3\")\n",
    "dx = x3 - x2\n",
    "dz = z3 - z2\n",
    "dl = sqrt(dx**2 + dz**2) - l0\n",
    "dl.evalf()"
   ]
  },
  {
   "cell_type": "markdown",
   "metadata": {},
   "source": [
    "The work done by the spring between P2 and P3 with stiffness $k$ and gravity."
   ]
  },
  {
   "cell_type": "code",
   "execution_count": 43,
   "metadata": {},
   "outputs": [
    {
     "data": {
      "text/latex": [
       "$\\displaystyle M g \\left(r_{1} \\sin{\\left(\\phi_{1}{\\left(t \\right)} \\right)} + z_{1}\\right) + 0.5 k \\left(- l_{0} + \\left(\\left(- r_{1} \\sin{\\left(\\phi_{1}{\\left(t \\right)} \\right)} - z_{1} + z_{3}\\right)^{2} + \\left(- r_{1} \\cos{\\left(\\phi_{1}{\\left(t \\right)} \\right)} - x_{1} + x_{3}\\right)^{2}\\right)^{0.5}\\right)^{2}$"
      ],
      "text/plain": [
       "M*g*(r1*sin(phi1(t)) + z1) + 0.5*k*(-l0 + ((-r1*sin(phi1(t)) - z1 + z3)**2 + (-r1*cos(phi1(t)) - x1 + x3)**2)**0.5)**2"
      ]
     },
     "execution_count": 43,
     "metadata": {},
     "output_type": "execute_result"
    }
   ],
   "source": [
    "var(\"k g\")\n",
    "V = 0.5*k*dl**2 + M*g*z2\n",
    "V.evalf()"
   ]
  },
  {
   "cell_type": "markdown",
   "metadata": {},
   "source": [
    "### Work by external force\n",
    "The work done by an external force working in the horizontal direction:"
   ]
  },
  {
   "cell_type": "code",
   "execution_count": 44,
   "metadata": {},
   "outputs": [
    {
     "data": {
      "text/latex": [
       "$\\displaystyle \\left(r_{1} \\cos{\\left(\\phi_{1}{\\left(t \\right)} \\right)} + x_{1}\\right) \\operatorname{Fx}{\\left(t \\right)}$"
      ],
      "text/plain": [
       "(r1*cos(phi1(t)) + x1)*Fx(t)"
      ]
     },
     "execution_count": 44,
     "metadata": {},
     "output_type": "execute_result"
    }
   ],
   "source": [
    "Fx = Function(\"Fx\")(t)\n",
    "W = x2*Fx\n",
    "W.evalf()"
   ]
  },
  {
   "cell_type": "markdown",
   "metadata": {},
   "source": [
    "## Step 3: Construct the Lagrangian"
   ]
  },
  {
   "cell_type": "code",
   "execution_count": 45,
   "metadata": {},
   "outputs": [
    {
     "data": {
      "text/latex": [
       "$\\displaystyle - M g \\left(r_{1} \\sin{\\left(\\phi_{1}{\\left(t \\right)} \\right)} + z_{1}\\right) + 0.5 M r_{1}^{2} \\left(\\frac{d}{d t} \\phi_{1}{\\left(t \\right)}\\right)^{2} - 0.5 k \\left(- l_{0} + \\left(\\left(- r_{1} \\sin{\\left(\\phi_{1}{\\left(t \\right)} \\right)} - z_{1} + z_{3}\\right)^{2} + \\left(- r_{1} \\cos{\\left(\\phi_{1}{\\left(t \\right)} \\right)} - x_{1} + x_{3}\\right)^{2}\\right)^{0.5}\\right)^{2} - \\left(r_{1} \\cos{\\left(\\phi_{1}{\\left(t \\right)} \\right)} + x_{1}\\right) \\operatorname{Fx}{\\left(t \\right)}$"
      ],
      "text/plain": [
       "-M*g*(r1*sin(phi1(t)) + z1) + 0.5*M*r1**2*Derivative(phi1(t), t)**2 - 0.5*k*(-l0 + ((-r1*sin(phi1(t)) - z1 + z3)**2 + (-r1*cos(phi1(t)) - x1 + x3)**2)**0.5)**2 - (r1*cos(phi1(t)) + x1)*Fx(t)"
      ]
     },
     "execution_count": 45,
     "metadata": {},
     "output_type": "execute_result"
    }
   ],
   "source": [
    "L = T - V - W\n",
    "L.evalf()"
   ]
  },
  {
   "cell_type": "markdown",
   "metadata": {},
   "source": [
    "## Step 4: Obtaining the EoM\n",
    "\n",
    "In order to obtain the EoMs we have to take derivatives w.r.t. $\\phi_1$ and its velocity. "
   ]
  },
  {
   "cell_type": "code",
   "execution_count": 46,
   "metadata": {},
   "outputs": [
    {
     "data": {
      "text/latex": [
       "$\\displaystyle M g r_{1} \\cos{\\left(\\phi_{1}{\\left(t \\right)} \\right)} + 1.0 M r_{1}^{2} \\frac{d^{2}}{d t^{2}} \\phi_{1}{\\left(t \\right)} + \\frac{1.0 k \\left(- l_{0} + \\left(\\left(- r_{1} \\sin{\\left(\\phi_{1}{\\left(t \\right)} \\right)} - z_{1} + z_{3}\\right)^{2} + \\left(- r_{1} \\cos{\\left(\\phi_{1}{\\left(t \\right)} \\right)} - x_{1} + x_{3}\\right)^{2}\\right)^{0.5}\\right) \\left(- r_{1} \\left(- r_{1} \\sin{\\left(\\phi_{1}{\\left(t \\right)} \\right)} - z_{1} + z_{3}\\right) \\cos{\\left(\\phi_{1}{\\left(t \\right)} \\right)} + r_{1} \\left(- r_{1} \\cos{\\left(\\phi_{1}{\\left(t \\right)} \\right)} - x_{1} + x_{3}\\right) \\sin{\\left(\\phi_{1}{\\left(t \\right)} \\right)}\\right)}{\\left(\\left(- r_{1} \\sin{\\left(\\phi_{1}{\\left(t \\right)} \\right)} - z_{1} + z_{3}\\right)^{2} + \\left(- r_{1} \\cos{\\left(\\phi_{1}{\\left(t \\right)} \\right)} - x_{1} + x_{3}\\right)^{2}\\right)^{0.5}} - r_{1} \\operatorname{Fx}{\\left(t \\right)} \\sin{\\left(\\phi_{1}{\\left(t \\right)} \\right)}$"
      ],
      "text/plain": [
       "M*g*r1*cos(phi1(t)) + 1.0*M*r1**2*Derivative(phi1(t), (t, 2)) + 1.0*k*(-l0 + ((-r1*sin(phi1(t)) - z1 + z3)**2 + (-r1*cos(phi1(t)) - x1 + x3)**2)**0.5)*(-r1*(-r1*sin(phi1(t)) - z1 + z3)*cos(phi1(t)) + r1*(-r1*cos(phi1(t)) - x1 + x3)*sin(phi1(t)))/((-r1*sin(phi1(t)) - z1 + z3)**2 + (-r1*cos(phi1(t)) - x1 + x3)**2)**0.5 - r1*Fx(t)*sin(phi1(t))"
      ]
     },
     "execution_count": 46,
     "metadata": {},
     "output_type": "execute_result"
    }
   ],
   "source": [
    "EOM_phi = diff( diff(L, diff(phi1, t)), t) - diff(L, phi1)\n",
    "EOM_phi.evalf()"
   ]
  },
  {
   "cell_type": "markdown",
   "metadata": {},
   "source": [
    "Now we isolate it for the acceleration"
   ]
  },
  {
   "cell_type": "code",
   "execution_count": 47,
   "metadata": {},
   "outputs": [
    {
     "data": {
      "text/latex": [
       "$\\displaystyle \\frac{- M g \\left(\\left(r_{1} \\sin{\\left(\\phi_{1}{\\left(t \\right)} \\right)} + z_{1} - z_{3}\\right)^{2} + \\left(r_{1} \\cos{\\left(\\phi_{1}{\\left(t \\right)} \\right)} + x_{1} - x_{3}\\right)^{2}\\right)^{0.5} \\cos{\\left(\\phi_{1}{\\left(t \\right)} \\right)} + k l_{0} \\left(- x_{1} \\sin{\\left(\\phi_{1}{\\left(t \\right)} \\right)} + x_{3} \\sin{\\left(\\phi_{1}{\\left(t \\right)} \\right)} + z_{1} \\cos{\\left(\\phi_{1}{\\left(t \\right)} \\right)} - z_{3} \\cos{\\left(\\phi_{1}{\\left(t \\right)} \\right)}\\right) + \\left(\\left(r_{1} \\sin{\\left(\\phi_{1}{\\left(t \\right)} \\right)} + z_{1} - z_{3}\\right)^{2} + \\left(r_{1} \\cos{\\left(\\phi_{1}{\\left(t \\right)} \\right)} + x_{1} - x_{3}\\right)^{2}\\right)^{0.5} \\left(k x_{1} \\sin{\\left(\\phi_{1}{\\left(t \\right)} \\right)} - k x_{3} \\sin{\\left(\\phi_{1}{\\left(t \\right)} \\right)} - k z_{1} \\cos{\\left(\\phi_{1}{\\left(t \\right)} \\right)} + k z_{3} \\cos{\\left(\\phi_{1}{\\left(t \\right)} \\right)} + \\operatorname{Fx}{\\left(t \\right)} \\sin{\\left(\\phi_{1}{\\left(t \\right)} \\right)}\\right)}{M r_{1} \\left(\\left(r_{1} \\sin{\\left(\\phi_{1}{\\left(t \\right)} \\right)} + z_{1} - z_{3}\\right)^{2} + \\left(r_{1} \\cos{\\left(\\phi_{1}{\\left(t \\right)} \\right)} + x_{1} - x_{3}\\right)^{2}\\right)^{0.5}}$"
      ],
      "text/plain": [
       "(-M*g*((r1*sin(phi1(t)) + z1 - z3)**2 + (r1*cos(phi1(t)) + x1 - x3)**2)**0.5*cos(phi1(t)) + k*l0*(-x1*sin(phi1(t)) + x3*sin(phi1(t)) + z1*cos(phi1(t)) - z3*cos(phi1(t))) + ((r1*sin(phi1(t)) + z1 - z3)**2 + (r1*cos(phi1(t)) + x1 - x3)**2)**0.5*(k*x1*sin(phi1(t)) - k*x3*sin(phi1(t)) - k*z1*cos(phi1(t)) + k*z3*cos(phi1(t)) + Fx(t)*sin(phi1(t))))/(M*r1*((r1*sin(phi1(t)) + z1 - z3)**2 + (r1*cos(phi1(t)) + x1 - x3)**2)**0.5)"
      ]
     },
     "execution_count": 47,
     "metadata": {},
     "output_type": "execute_result"
    }
   ],
   "source": [
    "EOM_phi_iso = solve(EOM_phi, diff(phi1, (t, 2)))\n",
    "EOM_phi_iso[0].evalf()"
   ]
  },
  {
   "cell_type": "markdown",
   "metadata": {},
   "source": [
    "The EOM of an actual pendulum can be recovered by removing the spring and the external force. Note that this returns a cos because $\\phi (t)=0$ was set to the right, rather than downward which is more conventional for a pendulum."
   ]
  },
  {
   "cell_type": "code",
   "execution_count": 48,
   "metadata": {},
   "outputs": [
    {
     "data": {
      "text/latex": [
       "$\\displaystyle - \\frac{g \\cos{\\left(\\phi_{1}{\\left(t \\right)} \\right)}}{r_{1}}$"
      ],
      "text/plain": [
       "-g*cos(phi1(t))/r1"
      ]
     },
     "execution_count": 48,
     "metadata": {},
     "output_type": "execute_result"
    }
   ],
   "source": [
    "EOM_phi_iso[0].evalf(subs={k: 0, Fx: 0})"
   ]
  },
  {
   "cell_type": "markdown",
   "metadata": {},
   "source": [
    "## Bonus: Obtaining the EOMs for nDOF system\n",
    "\n",
    "If your system contains multiple DOFs, you will have to take the derivative of $L$ towards each of these separately, thereby obtaining the EOM for each DOF. Let's say you obtained the following two EOMs (the EOMs are just random things I entered):"
   ]
  },
  {
   "cell_type": "code",
   "execution_count": 56,
   "metadata": {},
   "outputs": [
    {
     "data": {
      "text/latex": [
       "$\\displaystyle - c u{\\left(t \\right)} e^{u{\\left(t \\right)} w{\\left(t \\right)}} \\log{\\left(\\sqrt{t} \\right)}^{2} \\left(\\frac{d}{d t} w{\\left(t \\right)}\\right)^{2} - c \\frac{d}{d t} w{\\left(t \\right)} - k u{\\left(t \\right)} + m \\sin{\\left(u{\\left(t \\right)} \\right)} \\frac{d^{2}}{d t^{2}} w{\\left(t \\right)} + m \\cos{\\left(w{\\left(t \\right)} \\right)} \\frac{d^{2}}{d t^{2}} u{\\left(t \\right)}$"
      ],
      "text/plain": [
       "-c*u(t)*exp(u(t)*w(t))*log(sqrt(t))**2*Derivative(w(t), t)**2 - c*Derivative(w(t), t) - k*u(t) + m*sin(u(t))*Derivative(w(t), (t, 2)) + m*cos(w(t))*Derivative(u(t), (t, 2))"
      ]
     },
     "execution_count": 56,
     "metadata": {},
     "output_type": "execute_result"
    }
   ],
   "source": [
    "var(\"m c k J d q\")\n",
    "u = Function(\"u\")(t)\n",
    "w = Function(\"w\")(t)\n",
    "\n",
    "eom1 = m*cos(w)*diff(u, (t, 2)) + m*sin(u)*diff(w, (t, 2)) - c*diff(w, t) - c*diff(w, t)**2*u*ln(sqrt(t))**2*exp(u*w) - k*u\n",
    "eom1.evalf()"
   ]
  },
  {
   "cell_type": "code",
   "execution_count": 57,
   "metadata": {},
   "outputs": [
    {
     "data": {
      "text/latex": [
       "$\\displaystyle J w^{2}{\\left(t \\right)} \\frac{d^{2}}{d t^{2}} u{\\left(t \\right)} + J \\frac{d}{d t} w{\\left(t \\right)} \\frac{d^{2}}{d t^{2}} w{\\left(t \\right)} - d \\frac{d}{d t} w{\\left(t \\right)} + q u{\\left(t \\right)}$"
      ],
      "text/plain": [
       "J*w(t)**2*Derivative(u(t), (t, 2)) + J*Derivative(w(t), t)*Derivative(w(t), (t, 2)) - d*Derivative(w(t), t) + q*u(t)"
      ]
     },
     "execution_count": 57,
     "metadata": {},
     "output_type": "execute_result"
    }
   ],
   "source": [
    "eom2 = J*w**2*diff(u, (t, 2)) + J*diff(w, t)*diff(w, (t, 2)) - d*diff(w, t) + q*u\n",
    "eom2.evalf()"
   ]
  },
  {
   "cell_type": "markdown",
   "metadata": {},
   "source": [
    "You can collect both EOMs into matrix form using the following code:"
   ]
  },
  {
   "cell_type": "code",
   "execution_count": 77,
   "metadata": {},
   "outputs": [],
   "source": [
    "# linear_eq_to_matrix only accepts symbols, therefore we have to substitute the second derivative functions with symbols a1 and a2\n",
    "a1, a2 = symbols(\"a1 a2\")\n",
    "eom1 = eom1.evalf(subs={diff(u, (t, 2)): a1, diff(w, (t, 2)): a2})\n",
    "eom2 = eom2.evalf(subs={diff(u, (t, 2)): a1, diff(w, (t, 2)): a2})\n",
    "MTRX = linear_eq_to_matrix([eom1, eom2], [a1, a2])"
   ]
  },
  {
   "cell_type": "markdown",
   "metadata": {},
   "source": [
    "Resulting in the following system of equations:"
   ]
  },
  {
   "cell_type": "code",
   "execution_count": 79,
   "metadata": {},
   "outputs": [
    {
     "data": {
      "text/latex": [
       "$\\displaystyle \\left[\\begin{matrix}m \\cos{\\left(w{\\left(t \\right)} \\right)} & m \\sin{\\left(u{\\left(t \\right)} \\right)}\\\\J w^{2}{\\left(t \\right)} & J \\frac{d}{d t} w{\\left(t \\right)}\\end{matrix}\\right]$"
      ],
      "text/plain": [
       "Matrix([\n",
       "[m*cos(w(t)),           m*sin(u(t))],\n",
       "[  J*w(t)**2, J*Derivative(w(t), t)]])"
      ]
     },
     "execution_count": 79,
     "metadata": {},
     "output_type": "execute_result"
    }
   ],
   "source": [
    "M = MTRX[0]\n",
    "MTRX[0].evalf()"
   ]
  },
  {
   "cell_type": "markdown",
   "metadata": {},
   "source": [
    "And the following right-hand-side:"
   ]
  },
  {
   "cell_type": "code",
   "execution_count": 80,
   "metadata": {},
   "outputs": [
    {
     "data": {
      "text/latex": [
       "$\\displaystyle \\left[\\begin{matrix}c u{\\left(t \\right)} e^{u{\\left(t \\right)} w{\\left(t \\right)}} \\log{\\left(\\sqrt{t} \\right)}^{2} \\left(\\frac{d}{d t} w{\\left(t \\right)}\\right)^{2} + c \\frac{d}{d t} w{\\left(t \\right)} + k u{\\left(t \\right)}\\\\d \\frac{d}{d t} w{\\left(t \\right)} - q u{\\left(t \\right)}\\end{matrix}\\right]$"
      ],
      "text/plain": [
       "Matrix([\n",
       "[c*u(t)*exp(u(t)*w(t))*log(sqrt(t))**2*Derivative(w(t), t)**2 + c*Derivative(w(t), t) + k*u(t)],\n",
       "[                                                               d*Derivative(w(t), t) - q*u(t)]])"
      ]
     },
     "execution_count": 80,
     "metadata": {},
     "output_type": "execute_result"
    }
   ],
   "source": [
    "F = MTRX[1]\n",
    "MTRX[1].evalf()"
   ]
  }
 ],
 "metadata": {
  "interpreter": {
   "hash": "8661b582be0f012a274b7385348a70dad23ce1ee0d922b32977c503b98c884f2"
  },
  "kernelspec": {
   "display_name": "Python 3.9.7 ('base')",
   "language": "python",
   "name": "python3"
  },
  "language_info": {
   "codemirror_mode": {
    "name": "ipython",
    "version": 3
   },
   "file_extension": ".py",
   "mimetype": "text/x-python",
   "name": "python",
   "nbconvert_exporter": "python",
   "pygments_lexer": "ipython3",
   "version": "3.9.7"
  },
  "orig_nbformat": 4
 },
 "nbformat": 4,
 "nbformat_minor": 2
}
