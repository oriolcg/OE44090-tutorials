{
 "cells": [
  {
   "cell_type": "markdown",
   "metadata": {},
   "source": [
    "# Tutorial 7: Modal superposition of a jacket wind turbine\n",
    "\n",
    "In this tutorial we will use the model defined in tutorial 6 to apply the modal superposition technique in a simplified jacket wind turbine. We assume that the structure can be modelled as a space frame with structural elements that are subject to axial displacement and bending. Therefore, the equations of motion at a given element are given by: \n",
    "\n",
    "$$ \\rho A \\frac{\\partial^2 u (x,t)}{\\partial t^2} - E A \\frac{\\partial^2 u(x,t)}{\\partial x^2} = q_u(x) $$\n",
    "\n",
    "$$ \\rho A \\frac{\\partial^2 v (x,t)}{\\partial t^2} + E I \\frac{\\partial^4 v(x,t)}{\\partial x^4} = q_v(x) $$\n",
    "\n",
    "In the following figure we have a sketch of the simplified geometry that will be used in this example.\n",
    "\n",
    "![figure](tutorial8_figure.png)\n"
   ]
  },
  {
   "cell_type": "markdown",
   "metadata": {},
   "source": [
    "## Step 0: input parameters\n",
    "\n",
    "Let's start by setting some parameters:"
   ]
  },
  {
   "cell_type": "code",
   "execution_count": 1,
   "metadata": {},
   "outputs": [],
   "source": [
    "import numpy as np\n",
    "import matplotlib.pyplot as plt\n",
    "import scipy.linalg as scp\n",
    "\n",
    "# Input parameters\n",
    "# Nacelle\n",
    "Mass_Nacelle = 5000             # [kg]\n",
    "\n",
    "# Pile\n",
    "m_Pile = 1000                   # [kg/m]\n",
    "EI_Pile = 1e9                   # [N.m2]\n",
    "EA_Pile = 1e8                   # [N]\n",
    "H_Pile = 100                    # [m]\n",
    "\n",
    "# Jacket\n",
    "m_Jacket = 100                  # [kg/m]\n",
    "EI_Jacket = 1e7                 # [N.m2]\n",
    "EA_Jacket = 1e6                 # [N]\n",
    "H_Jacket = 70                   # [m]\n",
    "Base_Jacket = 30.23             # [m]\n",
    "Top_Jacket = 16.13              # [m]\n",
    "\n",
    "# Define load parameters\n",
    "f0 = 2                          # [Hz]\n",
    "A0 = 0.1                        # [m]\n",
    "T0 = 20                         # [s]\n",
    "\n",
    "# Define output time vector\n",
    "dt = 0.01                       # [s]\n",
    "T = np.arange(0, 5*T0, dt)\n",
    "nT = len(T)"
   ]
  },
  {
   "cell_type": "markdown",
   "metadata": {},
   "source": [
    "## Step 1: discretize the domain \n",
    "\n",
    "As done in tutorial 6, we start by discretizing the domain. We will discretize the structure using 21 nodes, as depicted in the following figure.\n",
    "\n",
    "![figure](tutorial8_figure2.png)\n",
    "\n",
    "Here we first define a matrix with the nodal coordinates.\n"
   ]
  },
  {
   "cell_type": "code",
   "execution_count": 2,
   "metadata": {},
   "outputs": [],
   "source": [
    "# Define node coordinates\n",
    "NodeCoord = ([-(Base_Jacket*4+Top_Jacket*0)/4/2,      -4*H_Jacket/4],  # Point 1\n",
    "              [(Base_Jacket*4+Top_Jacket*0)/4/2,      -4*H_Jacket/4],  # Point 2\n",
    "             [-(Base_Jacket*3+Top_Jacket*1)/4/2,      -3*H_Jacket/4],  # Point 3\n",
    "              [(Base_Jacket*3+Top_Jacket*1)/4/2,      -3*H_Jacket/4],  # Point 4\n",
    "             [-(Base_Jacket*2+Top_Jacket*2)/4/2,      -2*H_Jacket/4],  # Point 5\n",
    "              [(Base_Jacket*2+Top_Jacket*2)/4/2,      -2*H_Jacket/4],  # Point 6\n",
    "             [-(Base_Jacket*1+Top_Jacket*3)/4/2,      -1*H_Jacket/4],  # Point 7\n",
    "              [(Base_Jacket*1+Top_Jacket*3)/4/2,      -1*H_Jacket/4],  # Point 8\n",
    "             [-(Base_Jacket*0+Top_Jacket*4)/4/2,       0*H_Jacket/4],  # Point 9\n",
    "                                             [0,       0*H_Jacket/4],  # Point 10\n",
    "              [(Base_Jacket*0+Top_Jacket*4)/4/2,       0*H_Jacket/4],  # Point 11\n",
    "                                             [0,                 10],  # Point 12\n",
    "                                             [0,                 20],  # Point 13\n",
    "                                             [0,                 30],  # Point 14\n",
    "                                             [0,                 40],  # Point 15\n",
    "                                             [0,                 50],  # Point 16\n",
    "                                             [0,                 60],  # Point 17\n",
    "                                             [0,                 70],  # Point 18\n",
    "                                             [0,                 80],  # Point 19\n",
    "                                             [0,                 90],  # Point 20\n",
    "                                             [0,                100])  # Point 21\n",
    "nNode = len(NodeCoord)"
   ]
  },
  {
   "cell_type": "markdown",
   "metadata": {},
   "source": [
    "Once we have the node coordinates we proceed to define the elemental connectivities. Here, we will use the same array to assign the material properties to each element. Note that they are different depending on which part of the structure they belong to."
   ]
  },
  {
   "cell_type": "code",
   "execution_count": 3,
   "metadata": {},
   "outputs": [],
   "source": [
    "# Define elements (and their properties\n",
    "#             NodeLeft    NodeRight          m         EA        EI\n",
    "Elements = (         [1,            3,   m_Jacket,  EA_Jacket, EI_Jacket],\n",
    "                     [1,            4,   m_Jacket,  EA_Jacket, EI_Jacket],\n",
    "                     [2,            4,   m_Jacket,  EA_Jacket, EI_Jacket],\n",
    "                     [3,            4,   m_Jacket,  EA_Jacket, EI_Jacket],\n",
    "                     [3,            5,   m_Jacket,  EA_Jacket, EI_Jacket],\n",
    "                     [5,            4,   m_Jacket,  EA_Jacket, EI_Jacket],\n",
    "                     [4,            6,   m_Jacket,  EA_Jacket, EI_Jacket],\n",
    "                     [5,            6,   m_Jacket,  EA_Jacket, EI_Jacket],\n",
    "                     [5,            7,   m_Jacket,  EA_Jacket, EI_Jacket],\n",
    "                     [5,            8,   m_Jacket,  EA_Jacket, EI_Jacket],\n",
    "                     [6,            8,   m_Jacket,  EA_Jacket, EI_Jacket],\n",
    "                     [7,            8,   m_Jacket,  EA_Jacket, EI_Jacket],\n",
    "                     [7,            9,   m_Jacket,  EA_Jacket, EI_Jacket],\n",
    "                     [9,            8,   m_Jacket,  EA_Jacket, EI_Jacket],\n",
    "                     [8,           11,   m_Jacket,  EA_Jacket, EI_Jacket],\n",
    "                     [9,           10,   m_Jacket,  EA_Jacket, EI_Jacket],\n",
    "                    [10,           11,   m_Jacket,  EA_Jacket, EI_Jacket],\n",
    "                    [10,           12,   m_Pile,    EA_Pile,   EI_Pile],\n",
    "                    [12,           13,   m_Pile,    EA_Pile,   EI_Pile],\n",
    "                    [13,           14,   m_Pile,    EA_Pile,   EI_Pile],\n",
    "                    [14,           15,   m_Pile,    EA_Pile,   EI_Pile],\n",
    "                    [15,           16,   m_Pile,    EA_Pile,   EI_Pile],\n",
    "                    [16,           17,   m_Pile,    EA_Pile,   EI_Pile],\n",
    "                    [17,           18,   m_Pile,    EA_Pile,   EI_Pile],\n",
    "                    [18,           19,   m_Pile,    EA_Pile,   EI_Pile],\n",
    "                    [19,           20,   m_Pile,    EA_Pile,   EI_Pile],\n",
    "                    [20,           21,   m_Pile,    EA_Pile,   EI_Pile])\n",
    "nElem = len(Elements)"
   ]
  },
  {
   "cell_type": "markdown",
   "metadata": {},
   "source": [
    "Let's plot the structure to make sure that it looks like the model in the figure."
   ]
  },
  {
   "cell_type": "code",
   "execution_count": 4,
   "metadata": {},
   "outputs": [
    {
     "data": {
      "image/png": "[encoded data removed]",
      "text/plain": [
       "<Figure size 432x288 with 1 Axes>"
      ]
     },
     "metadata": {
      "needs_background": "light"
     },
     "output_type": "display_data"
    }
   ],
   "source": [
    "plt.figure()\n",
    "for iElem in np.arange(0, nElem):\n",
    "    NodeLeft = Elements[iElem][0]-1\n",
    "    NodeRight = Elements[iElem][1]-1\n",
    "    m = Elements[iElem][2]\n",
    "    EA = Elements[iElem][3]\n",
    "    EI = Elements[iElem][4]\n",
    "    if m == m_Jacket and EA == EA_Jacket and EI == EI_Jacket:\n",
    "        c = 'b'\n",
    "    elif m == m_Pile and EA == EA_Pile and EI == EI_Pile:\n",
    "        c = 'r'\n",
    "    else:\n",
    "        print(\"ERROR: unknown material. Check your inputs.\")\n",
    "        break\n",
    "    plt.plot([NodeCoord[NodeLeft][0], NodeCoord[NodeRight][0]], [NodeCoord[NodeLeft][1], NodeCoord[NodeRight][1]], c=c)\n",
    "plt.axis('equal')\n",
    "plt.grid()"
   ]
  },
  {
   "cell_type": "markdown",
   "metadata": {},
   "source": [
    "## Step 2: define the shape functions\n",
    "\n",
    "Here we will use the exact same functions as in tutorial 4 and 5. Linear shape functions for the axial displacement and cubic shape functions for the deflection and rotations. Since we already know its expression and we already have the value of the elemental matrices, we skip this step in this tutorial. "
   ]
  },
  {
   "cell_type": "markdown",
   "metadata": {},
   "source": [
    "## Step 3: computation of the elemental matrices\n",
    "\n",
    "In the theory we have seen that the mass and stiffness elemental matrices for the space frame using linear and cubic shape functions are given by:\n",
    "\n",
    "$$ \\bold{M} = \\frac{mL}{420} \\begin{bmatrix} 140 & 0 & 0 & 70 & 0 & 0 \\\\ 0 & 156 & 22L & 0 & 54 & -13L \\\\ 0 & 22L & 4L^2 & 0 & 13L & -3L^2 \\\\ 70 & 0 & 0 & 140 & 0 & 0 \\\\ 0 & 54 & 13L & 0 & 156 & -22L \\\\ 0 & -13L & -3L^2 & 0 & -22L & 4L^2 \\end{bmatrix} $$\n",
    "$$ \\quad \\bold{K} = \\begin{bmatrix} \\frac{EA}{L} & 0 & 0 & \\frac{-EA}{L} &  0 & 0 \\\\ 0 & \\frac{12EI}{L^3} & \\frac{6EI}{L^2} & 0 & \\frac{-12EI}{L^3} & \\frac{6EI}{L^2} \\\\ 0 & \\frac{6EI}{L^2} & \\frac{4EI}{L} & 0 & \\frac{-6EI}{L^2} & \\frac{2EI}{L} \\\\ \\frac{-EA}{L} & 0 & 0 & \\frac{EA}{L} & 0 & 0 \\\\ 0 & \\frac{-12EI}{L^3} & \\frac{-6EI}{L^2} & 0 & \\frac{12EI}{L^3} & \\frac{-6EI}{L^2} \\\\ 0 & \\frac{6EI}{L^2} & \\frac{2EI}{L} & 0 & \\frac{-6EI}{L^2} & \\frac{4EI}{L} \\end{bmatrix}$$\n",
    "\n",
    "These matrices are used directly when calling the `BeamMatrices` function within the assembly process."
   ]
  },
  {
   "cell_type": "markdown",
   "metadata": {},
   "source": [
    "## Step 4: global assembly\n",
    "\n",
    "The last step is to compute the global matrices and the global forcing vector. We start by initializing the global matrices as 1-dimensional arrays."
   ]
  },
  {
   "cell_type": "code",
   "execution_count": 5,
   "metadata": {},
   "outputs": [],
   "source": [
    "nDof = 3*nNode              # 3 Degrees of freedom per node\n",
    "K = np.zeros((nDof*nDof))\n",
    "M = np.zeros((nDof*nDof))"
   ]
  },
  {
   "cell_type": "markdown",
   "metadata": {},
   "source": [
    "Then we loop over elements and perform all the elemental operations."
   ]
  },
  {
   "cell_type": "code",
   "execution_count": 6,
   "metadata": {},
   "outputs": [],
   "source": [
    "from BeamMatrices import BeamMatricesJacket\n",
    "for iElem in np.arange(0, nElem):\n",
    "    # Get the nodes of the elements\n",
    "    NodeLeft = Elements[iElem][0]-1\n",
    "    NodeRight = Elements[iElem][1]-1\n",
    "    \n",
    "    # Get the degrees of freedom that correspond to each node\n",
    "    Dofs_Left = 3*(NodeLeft) + np.arange(0, 3)\n",
    "    Dofs_Right = 3*(NodeRight) + np.arange(0, 3)\n",
    "\n",
    "    # Get the properties of the element\n",
    "    m = Elements[iElem][2]\n",
    "    EA = Elements[iElem][3]\n",
    "    EI = Elements[iElem][4]\n",
    "\n",
    "    # Calculate the matrices of the element\n",
    "    Me, Ke = BeamMatricesJacket(m, EA, EI, ([NodeCoord[NodeLeft][0], NodeCoord[NodeLeft][1]], [NodeCoord[NodeRight][0], NodeCoord[NodeRight][1]]))\n",
    "\n",
    "    # Assemble the matrices at the correct place\n",
    "    nodes = np.append(Dofs_Left, Dofs_Right)\n",
    "    for i in np.arange(0, 6):\n",
    "        for j in np.arange(0, 6):\n",
    "            ij = nodes[j] + nodes[i]*nDof\n",
    "            #print(ij)\n",
    "            M[ij] = M[ij] + Me[i, j]\n",
    "            K[ij] = K[ij] + Ke[i, j]\n",
    "            \n",
    "# Reshape the global matrix from a 1-dimensional array to a 2-dimensional array\n",
    "M = M.reshape((nDof, nDof))\n",
    "K = K.reshape((nDof, nDof))"
   ]
  },
  {
   "cell_type": "markdown",
   "metadata": {},
   "source": [
    "Now we have the global mass and stiffness matrices. However, in this example we have an additional point mass at the top corresponding to the nacelle. Then, we need to account for this mass adding its value at the corresponding DOFs, in this case the corresponding horizontal and vertical displacements associated to the top node."
   ]
  },
  {
   "cell_type": "code",
   "execution_count": 7,
   "metadata": {},
   "outputs": [],
   "source": [
    "nacelle_node = nNode\n",
    "nacelle_dof_h = 3*(nacelle_node-1)\n",
    "nacelle_dof_v = 3*(nacelle_node-1)+1\n",
    "M[nacelle_dof_h, nacelle_dof_h] += Mass_Nacelle\n",
    "M[nacelle_dof_v, nacelle_dof_v] += Mass_Nacelle"
   ]
  },
  {
   "cell_type": "markdown",
   "metadata": {},
   "source": [
    "That completes the filling of the matrices. Let's have a look at the matrices' structure."
   ]
  },
  {
   "cell_type": "code",
   "execution_count": 8,
   "metadata": {},
   "outputs": [
    {
     "data": {
      "text/plain": [
       "Text(0.5, 1.0, 'Stiffness matrix')"
      ]
     },
     "execution_count": 8,
     "metadata": {},
     "output_type": "execute_result"
    },
    {
     "data": {
      "image/png": "[encoded data removed]",
      "text/plain": [
       "<Figure size 432x288 with 1 Axes>"
      ]
     },
     "metadata": {
      "needs_background": "light"
     },
     "output_type": "display_data"
    },
    {
     "data": {
      "image/png": "[encoded data removed]",
      "text/plain": [
       "<Figure size 432x288 with 1 Axes>"
      ]
     },
     "metadata": {
      "needs_background": "light"
     },
     "output_type": "display_data"
    }
   ],
   "source": [
    "# Look at the matrix structure\n",
    "plt.figure()\n",
    "plt.spy(M)\n",
    "plt.title(\"Mass matrix\")\n",
    "plt.figure()\n",
    "plt.spy(K)\n",
    "plt.title(\"Stiffness matrix\")\n"
   ]
  },
  {
   "cell_type": "markdown",
   "metadata": {},
   "source": [
    "To apply the boundary conditions, we will remove the rows associated to the fixed DOFs and add the contribution to the right-hand-side. First, we obtain the free and fixed DOFs."
   ]
  },
  {
   "cell_type": "code",
   "execution_count": 9,
   "metadata": {},
   "outputs": [],
   "source": [
    "DofsP = np.arange(0, 6)          # prescribed DOFs\n",
    "DofsF = np.arange(0, nDof)       # free DOFs\n",
    "DofsF = np.delete(DofsF, DofsP)  # remove the fixed DOFs from the free DOFs array\n",
    "\n",
    "# free & fixed array indices\n",
    "fx = DofsF[:, np.newaxis]\n",
    "fy = DofsF[np.newaxis, :]\n",
    "bx = DofsP[:, np.newaxis]\n",
    "by = DofsP[np.newaxis, :]"
   ]
  },
  {
   "cell_type": "markdown",
   "metadata": {},
   "source": [
    "We can re-order the matrices and vectors in blocks, such that it's easy to operate with the blocks corresponding with the fixed DOFs."
   ]
  },
  {
   "cell_type": "code",
   "execution_count": 10,
   "metadata": {},
   "outputs": [],
   "source": [
    "# Mass\n",
    "M_FF = M[fx, fy]\n",
    "M_FP = M[fx, by]\n",
    "M_PF = M[bx, fy]\n",
    "M_PP = M[bx, by]\n",
    "\n",
    "# Stiffness\n",
    "K_FF = K[fx, fy]\n",
    "K_FP = K[fx, by]\n",
    "K_PF = K[bx, fy]\n",
    "K_PP = K[bx, by]"
   ]
  },
  {
   "cell_type": "markdown",
   "metadata": {},
   "source": [
    "## Step 5: modal analysis\n",
    "\n",
    "Using the matrices associated to the free DOFs, we can perform a modal analysis to get more information on how the structure will deform and determine the natural frequencies.\n",
    "\n",
    "$$ ( \\bold{K}_{FF} - \\omega^2 \\bold{M}_{FF} ) \\bold{\\phi} = \\bold{0} $$\n",
    "\n",
    "To compute the natural frequencies and mode shapes we use the `eig` command, which is part of the NumPy package. For more information see: https://numpy.org/doc/stable/reference/generated/numpy.linalg.eig.html"
   ]
  },
  {
   "cell_type": "code",
   "execution_count": 11,
   "metadata": {},
   "outputs": [],
   "source": [
    "mat = np.dot(np.linalg.inv(M_FF), K_FF)\n",
    "w2, vr = np.linalg.eig(mat)\n",
    "w = np.sqrt(w2.real)\n",
    "f = w/2/np.pi"
   ]
  },
  {
   "cell_type": "markdown",
   "metadata": {},
   "source": [
    "We sort the frequencies and mode shapes in descending order:"
   ]
  },
  {
   "cell_type": "code",
   "execution_count": 12,
   "metadata": {},
   "outputs": [],
   "source": [
    "idx = f.argsort()[::-1]  \n",
    "f = f[idx]\n",
    "ModalShape = np.zeros((nDof, len(f)))\n",
    "ModalShape[6:, :] = vr[:, idx]"
   ]
  },
  {
   "cell_type": "markdown",
   "metadata": {},
   "source": [
    "Let's see what these modes look like. Here, we plot the first 9 modes. Note that the system will have 19 x 3 = 57 modes (as many as the discrete system DOFs)."
   ]
  },
  {
   "cell_type": "code",
   "execution_count": 14,
   "metadata": {},
   "outputs": [
    {
     "name": "stderr",
     "output_type": "stream",
     "text": [
      "/var/folders/x8/j31lwf6x2pn55lptcpxy8b25n24c6g/T/ipykernel_28763/2034076792.py:6: MatplotlibDeprecationWarning: Passing non-integers as three-element position specification is deprecated since 3.3 and will be removed two minor releases later.\n",
      "  plt.subplot(nRow, nCol, iMode)\n"
     ]
    },
    {
     "data": {
      "image/png": "[encoded data removed]",
      "text/plain": [
       "<Figure size 432x288 with 9 Axes>"
      ]
     },
     "metadata": {
      "needs_background": "light"
     },
     "output_type": "display_data"
    }
   ],
   "source": [
    "nMode = 9\n",
    "plt.figure()\n",
    "nCol = np.round(np.sqrt(nMode))\n",
    "nRow = np.ceil(nMode/nCol)\n",
    "for iMode in np.arange(1, nMode + 1):\n",
    "    plt.subplot(nRow, nCol, iMode)\n",
    "    Shape = ModalShape[:, -iMode]\n",
    "\n",
    "    # Scale the mode such that maximum deformation is 10\n",
    "    MaxTranslationx = np.max(np.abs(Shape[0::3]))\n",
    "    MaxTranslationy = np.max(np.abs(Shape[1::3]))\n",
    "    Shape[0::3] = Shape[0::3]/MaxTranslationx*10\n",
    "    Shape[1::3] = Shape[1::3]/MaxTranslationy*10\n",
    "\n",
    "    # Get the deformed shape\n",
    "    DisplacedNode = ([i[0] for i in NodeCoord] + Shape[0::3], [i[1] for i in NodeCoord] + Shape[1::3])\n",
    "    for iElem in np.arange(0, nElem):\n",
    "        NodeLeft = Elements[iElem][0]-1\n",
    "        NodeRight = Elements[iElem][1]-1\n",
    "        m = Elements[iElem][2]\n",
    "        EA = Elements[iElem][3]\n",
    "        EI = Elements[iElem][4]\n",
    "        if m == m_Jacket and EA == EA_Jacket and EI == EI_Jacket:\n",
    "            c = 'b'\n",
    "        elif m == m_Pile and EA == EA_Pile and EI == EI_Pile:\n",
    "            c = 'r'\n",
    "        else:\n",
    "            print(\"ERROR: unknown material. Check your inputs.\")\n",
    "            break\n",
    "        plt.plot([DisplacedNode[0][NodeLeft], DisplacedNode[0][NodeRight]], \n",
    "                    [DisplacedNode[1][NodeLeft], DisplacedNode[1][NodeRight]], c=c)\n",
    "    plt.title(\"Mode \"+str(iMode)+\": f = \"+str(round(f[-iMode]))+\" Hz\")\n",
    "    plt.axis('equal')\n",
    "\n",
    "# automatically fix subplot spacing\n",
    "plt.tight_layout()"
   ]
  },
  {
   "cell_type": "markdown",
   "metadata": {},
   "source": [
    "## Step 6: calculate modal quantities\n",
    "\n",
    "Now we want to compute the mass and stiffness coefficients that go on the diagonal of the respective mode, $m_{ii}$ and $k_{ii}$. Here, we also compute the contribution from the external force, inluding the effect of the boundary conditions, $f_i^{eq}$. \n",
    "\n",
    "$$ \\begin{bmatrix} m_{11} \\ddot{\\Gamma}_1 \\\\ m_{22} \\ddot{\\Gamma}_2 \\\\ \\vdots \\\\ m_{NN} \\ddot{\\Gamma}_N \\end{bmatrix} + \\begin{bmatrix} k_{11} \\Gamma_1 \\\\ k_{22} \\Gamma_2 \\\\ \\vdots \\\\ k_{NN} \\Gamma_N \\end{bmatrix} = \\begin{bmatrix} f_1^{eq} \\\\ f_2^{eq} \\\\ \\vdots \\\\ f_N^{eq} \\end{bmatrix} \\rightarrow \\begin{cases} m_{11}\\ddot{\\Gamma}_1 + k_{11}\\Gamma_1 = f_1^{eq} \\\\ m_{22}\\ddot{\\Gamma}_2 + k_{22}\\Gamma_2 = f_2^{eq} \\\\ \\qquad \\qquad \\vdots \\\\ m_{NN}\\ddot{\\Gamma}_N + k_{NN}\\Gamma_N = f_N^{eq} \\end{cases} $$ \n",
    "\n",
    "Additionally, we also add damping into the system. In that case we use the modal damping ratio approach, with a damping ratio of 1% ($\\xi_j=0.01$).\n",
    "\n",
    "$$ c_{jj} = \\xi_j c_{cr,j} = 2 \\xi_j \\sqrt{m_{jj}k_{jj}} $$\n",
    "\n",
    "This will lead to a final system:\n",
    "\n",
    "$$ \\begin{cases} m_{11}\\ddot{\\Gamma}_1 + c_{11}\\dot{\\Gamma}_1 + k_{11}\\Gamma_1 = f_1^{eq} \\\\ m_{22}\\ddot{\\Gamma}_2 + c_{22}\\dot{\\Gamma}_2 + k_{22}\\Gamma_2 = f_2^{eq} \\\\ \\qquad \\qquad \\vdots \\\\ m_{NN}\\ddot{\\Gamma}_N + c_{NN}\\dot{\\Gamma}_N + k_{NN}\\Gamma_N = f_N^{eq} \\end{cases} $$ \n",
    "\n",
    "**Attention**: we are calculating all the modes, but in general this shouldn't be the case. You should only calculate the response for these modes that you want to consider. Here, we are calculating all modes, because we will compare the \"reduced\" and the \"full\" response. To consider only a few, you should replace `nMode` by the number of modes you wish to consider."
   ]
  },
  {
   "cell_type": "code",
   "execution_count": null,
   "metadata": {},
   "outputs": [],
   "source": [
    "nMode = len(f)\n",
    "PHI = vr[0:nMode+1, :]\n",
    "Mm = np.zeros(nMode)\n",
    "Km = np.zeros(nMode)\n",
    "Cm = np.zeros(nMode)\n",
    "ModalDampRatio = 0.01\n",
    "for iMode in np.arange(0, nMode+1):\n",
    "    Mm[iMode] = PHI[:, iMode]"
   ]
  }
 ],
 "metadata": {
  "interpreter": {
   "hash": "8661b582be0f012a274b7385348a70dad23ce1ee0d922b32977c503b98c884f2"
  },
  "kernelspec": {
   "display_name": "Python 3.9.7 ('base')",
   "language": "python",
   "name": "python3"
  },
  "language_info": {
   "codemirror_mode": {
    "name": "ipython",
    "version": 3
   },
   "file_extension": ".py",
   "mimetype": "text/x-python",
   "name": "python",
   "nbconvert_exporter": "python",
   "pygments_lexer": "ipython3",
   "version": "3.9.7"
  },
  "orig_nbformat": 4
 },
 "nbformat": 4,
 "nbformat_minor": 2
}
