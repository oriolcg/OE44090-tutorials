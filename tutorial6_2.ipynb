{
 "cells": [
  {
   "cell_type": "markdown",
   "metadata": {},
   "source": [
    "# Tutorial 9: Dynamic string\n",
    "\n",
    "In this tutorial we will learn how to describe the motion of an oscillating axially deformed string. Here, we will use the FEM to solve a geometrically nonlinear structure subject to gravity loading in a dynamic configuration. The equation of motion of an axially deformed string can be obtained by coupling a string and a rod EOMs, giving the following system of PDEs:\n",
    "\n",
    "$$ m\\ddot{u} -EAu'' = q $$\n",
    "\n",
    "$$ m \\ddot{v} -T v'' = p $$\n",
    "\n",
    "As usual, we first define the parameters:"
   ]
  },
  {
   "cell_type": "code",
   "execution_count": 1,
   "metadata": {},
   "outputs": [],
   "source": [
    "import numpy as np\n",
    "import matplotlib.pyplot as plt\n",
    "import scipy.integrate as scp\n",
    "\n",
    "L = 60      # [m] string length\n",
    "D = 0.75*L  # [m] distance between supports\n",
    "EA = 1e6    # [Pa] stiffness\n",
    "m = 1       # [kg] mass\n",
    "g = 9.81    # [m/s^2] gravity constant"
   ]
  },
  {
   "cell_type": "markdown",
   "metadata": {},
   "source": [
    "We now define a parameter that will be used as a flag to determine if the string can handle tension only or if it can also handle compression. By default we set it to 1 (tension only). If you want to add the possibility to handle compressions, set it to 0."
   ]
  },
  {
   "cell_type": "code",
   "execution_count": 2,
   "metadata": {},
   "outputs": [],
   "source": [
    "TENSION_ONLY = 1"
   ]
  },
  {
   "cell_type": "markdown",
   "metadata": {},
   "source": [
    "## Step 1: discretize the domain\n",
    "\n",
    "We will use the FEM to solve this problem. Then, we start by discretizing the domain in such a way that the maximum element length $l_{max}$ is 1 m."
   ]
  },
  {
   "cell_type": "code",
   "execution_count": 3,
   "metadata": {},
   "outputs": [],
   "source": [
    "lmax = 1                    # [m] maximum length of each string(wire) element\n",
    "nElem = int(np.ceil(L/lmax))# [-] number of elements   \n",
    "lElem = L/nElem             # [m] actual tensionless element size\n",
    "nNode = nElem + 1           # [-] number of nodes "
   ]
  },
  {
   "cell_type": "markdown",
   "metadata": {},
   "source": [
    "We create the nodal coordinates vector and an array with the properties of the element: node connectivity and material properties."
   ]
  },
  {
   "cell_type": "code",
   "execution_count": 4,
   "metadata": {},
   "outputs": [],
   "source": [
    "NodeCoord = np.zeros((nNode, 2))\n",
    "Element = np.zeros((nElem, 5))\n",
    "\n",
    "for iElem in np.arange(0, nElem):\n",
    "    NodeLeft = iElem\n",
    "    NodeRight = iElem + 1\n",
    "    NodeCoord[NodeRight] = NodeCoord[NodeLeft] + [lElem, 0]\n",
    "    Element[iElem, :] = [NodeLeft, NodeRight, m, EA, lElem]"
   ]
  },
  {
   "cell_type": "markdown",
   "metadata": {},
   "source": [
    "Let's plot the undeformed (horizontal) position of the string, together with the position of the supports"
   ]
  },
  {
   "cell_type": "code",
   "execution_count": 5,
   "metadata": {},
   "outputs": [
    {
     "data": {
      "text/plain": [
       "(-3.0, 63.0, -0.05500000000000001, 0.05500000000000001)"
      ]
     },
     "execution_count": 5,
     "metadata": {},
     "output_type": "execute_result"
    },
    {
     "data": {
      "image/png": "[encoded data removed]",
      "text/plain": [
       "<Figure size 432x288 with 1 Axes>"
      ]
     },
     "metadata": {
      "needs_background": "light"
     },
     "output_type": "display_data"
    }
   ],
   "source": [
    "# plot the undeformed wire\n",
    "plt.figure()\n",
    "for iElem in np.arange(0, nElem):\n",
    "    NodeLeft = int(Element[iElem, 0])\n",
    "    NodeRight = int(Element[iElem, 1])\n",
    "\n",
    "    plt.plot([NodeCoord[NodeLeft][0], NodeCoord[NodeRight][0]], [NodeCoord[NodeLeft][1], NodeCoord[NodeRight][1]], 'g')\n",
    "    \n",
    "# plot the supports\n",
    "plt.plot(D, 0, 'vr')\n",
    "plt.axis('equal')"
   ]
  },
  {
   "cell_type": "markdown",
   "metadata": {},
   "source": [
    "Note that the distance between supports is smaller than the string length. Therefore, the final string position will take a catenary shape between these two points."
   ]
  },
  {
   "cell_type": "markdown",
   "metadata": {},
   "source": [
    "## Step 2: Dynamic system:\n",
    "\n",
    "In this tutorial we assume that we have a string that initially is at its static equilibrium position. Then, we add a mass on the left of the string and release the left support.\n",
    "\n",
    "#### Step 2.1: Find the initial static position\n",
    "\n",
    "In order to get the initial string shape, we solve a static problem as done in tutorial 8."
   ]
  },
  {
   "cell_type": "code",
   "execution_count": 6,
   "metadata": {},
   "outputs": [
    {
     "name": "stdout",
     "output_type": "stream",
     "text": [
      "Iteration: 1 ...\n",
      "\n",
      "WARNING: Element 16 is under compression.\n",
      "\n",
      "WARNING: Element 17 is under compression.\n",
      "\n",
      "WARNING: Element 18 is under compression.\n",
      "\n",
      "WARNING: Element 19 is under compression.\n",
      "\n",
      "WARNING: Element 20 is under compression.\n",
      "\n",
      "WARNING: Element 21 is under compression.\n",
      "\n",
      "WARNING: Element 22 is under compression.\n",
      "\n",
      "WARNING: Element 23 is under compression.\n",
      "\n",
      "WARNING: Element 24 is under compression.\n",
      "\n",
      "WARNING: Element 25 is under compression.\n",
      "\n",
      "WARNING: Element 26 is under compression.\n",
      "\n",
      "WARNING: Element 27 is under compression.\n",
      "\n",
      "WARNING: Element 28 is under compression.\n",
      "\n",
      "WARNING: Element 29 is under compression.\n",
      "\n",
      "WARNING: Element 30 is under compression.\n",
      "\n",
      "WARNING: Element 31 is under compression.\n",
      "\n",
      "WARNING: Element 32 is under compression.\n",
      "\n",
      "WARNING: Element 33 is under compression.\n",
      "\n",
      "WARNING: Element 34 is under compression.\n",
      "\n",
      "WARNING: Element 35 is under compression.\n",
      "\n",
      "WARNING: Element 36 is under compression.\n",
      "\n",
      "WARNING: Element 37 is under compression.\n",
      "\n",
      "WARNING: Element 38 is under compression.\n",
      "\n",
      "WARNING: Element 39 is under compression.\n",
      "\n",
      "WARNING: Element 40 is under compression.\n",
      "\n",
      "WARNING: Element 41 is under compression.\n",
      "\n",
      "WARNING: Element 42 is under compression.\n",
      "\n",
      "WARNING: Element 43 is under compression.\n",
      "\n",
      "WARNING: Element 44 is under compression.\n",
      "\n",
      "WARNING: Element 45 is under compression.\n",
      "\n",
      "Iteration: 2 ...\n",
      "\n",
      "WARNING: Element 16 is under compression.\n",
      "\n",
      "WARNING: Element 17 is under compression.\n",
      "\n",
      "WARNING: Element 20 is under compression.\n",
      "\n",
      "WARNING: Element 21 is under compression.\n",
      "\n",
      "WARNING: Element 22 is under compression.\n",
      "\n",
      "WARNING: Element 23 is under compression.\n",
      "\n",
      "WARNING: Element 24 is under compression.\n",
      "\n",
      "WARNING: Element 25 is under compression.\n",
      "\n",
      "WARNING: Element 26 is under compression.\n",
      "\n",
      "WARNING: Element 27 is under compression.\n",
      "\n",
      "WARNING: Element 28 is under compression.\n",
      "\n",
      "WARNING: Element 29 is under compression.\n",
      "\n",
      "WARNING: Element 30 is under compression.\n",
      "\n",
      "WARNING: Element 31 is under compression.\n",
      "\n",
      "WARNING: Element 34 is under compression.\n",
      "\n",
      "WARNING: Element 35 is under compression.\n",
      "\n",
      "WARNING: Element 36 is under compression.\n",
      "\n",
      "WARNING: Element 37 is under compression.\n",
      "\n",
      "WARNING: Element 38 is under compression.\n",
      "\n",
      "WARNING: Element 39 is under compression.\n",
      "\n",
      "WARNING: Element 41 is under compression.\n",
      "\n",
      "WARNING: Element 44 is under compression.\n",
      "\n",
      "Iteration: 3 ...\n",
      "\n",
      "WARNING: Element 16 is under compression.\n",
      "\n",
      "WARNING: Element 17 is under compression.\n",
      "\n",
      "WARNING: Element 20 is under compression.\n",
      "\n",
      "WARNING: Element 23 is under compression.\n",
      "\n",
      "WARNING: Element 25 is under compression.\n",
      "\n",
      "WARNING: Element 26 is under compression.\n",
      "\n",
      "WARNING: Element 27 is under compression.\n",
      "\n",
      "WARNING: Element 31 is under compression.\n",
      "\n",
      "WARNING: Element 34 is under compression.\n",
      "\n",
      "WARNING: Element 36 is under compression.\n",
      "\n",
      "WARNING: Element 37 is under compression.\n",
      "\n",
      "WARNING: Element 38 is under compression.\n",
      "\n",
      "WARNING: Element 39 is under compression.\n",
      "\n",
      "WARNING: Element 41 is under compression.\n",
      "\n",
      "WARNING: Element 44 is under compression.\n",
      "\n",
      "Iteration: 4 ...\n",
      "\n",
      "WARNING: Element 34 is under compression.\n",
      "\n",
      "WARNING: Element 36 is under compression.\n",
      "\n",
      "Iteration: 5 ...\n",
      "\n",
      "Iteration: 6 ...\n",
      "\n",
      "Iteration: 7 ...\n",
      "\n",
      "Iteration: 8 ...\n",
      "\n",
      "Iteration: 9 ...\n",
      "\n",
      "Iteration: 10 ...\n",
      "\n",
      "Iteration: 11 ...\n",
      "\n",
      "Iteration: 12 ...\n",
      "\n",
      "WARNING: Element 20 is under compression.\n",
      "\n",
      "Iteration: 13 ...\n",
      "\n",
      "Iteration: 14 ...\n",
      "\n",
      "Iteration: 15 ...\n",
      "\n",
      "Iteration: 16 ...\n",
      "\n",
      "Iteration: 17 ...\n",
      "\n",
      "Iteration: 18 ...\n",
      "\n",
      "Iteration: 19 ...\n",
      "\n",
      "Iteration: 20 ...\n",
      "\n",
      "Iteration: 21 ...\n",
      "\n",
      "Iteration: 22 ...\n",
      "\n",
      "Iteration: 23 ...\n",
      "\n",
      "Iteration: 24 ...\n",
      "\n",
      "Iteration: 25 ...\n",
      "\n",
      "Iteration: 26 ...\n",
      "\n",
      "Iteration: 27 ...\n",
      "\n",
      "Iteration: 28 ...\n",
      "\n",
      "Iteration: 29 ...\n",
      "\n",
      "Iteration: 30 ...\n",
      "\n",
      "Converged solution at iteration: 30\n"
     ]
    },
    {
     "data": {
      "image/png": "[encoded data removed]",
      "text/plain": [
       "<Figure size 432x288 with 1 Axes>"
      ]
     },
     "metadata": {
      "needs_background": "light"
     },
     "output_type": "display_data"
    }
   ],
   "source": [
    "nDof = 2*nNode                          # number of DOFs\n",
    "FreeDof = np.arange(0, nDof)            # free DOFs \n",
    "FixedDof = [0,1, -2, -1]                # fixed DOFs\n",
    "FreeDof = np.delete(FreeDof, FixedDof)  # remove the fixed DOFs from the free DOFs array\n",
    "\n",
    "# free & fixed array indices\n",
    "fx = FreeDof[:, np.newaxis]\n",
    "fy = FreeDof[np.newaxis, :]\n",
    "\n",
    "SAG = 20                            # Let us assume a big sag - this will assure that all elements\n",
    "                                    # are under tension, which may be necesary for the convergence\n",
    "                                    # of the solver\n",
    "s = np.array([i[0] for i in NodeCoord])\n",
    "x = D*(s/L)\n",
    "y = -4*SAG*((x/D)-(x/D)**2)\n",
    "u = np.zeros((nDof))\n",
    "u[0:nDof+1:2] = x - np.array([i[0] for i in NodeCoord])\n",
    "u[1:nDof+1:2] = y - np.array([i[1] for i in NodeCoord])\n",
    "# The displacement of the node corresponds to the actual position minus the initial position\n",
    "# Remember that we use a Global Coordinate System (GCS) here.\n",
    "\n",
    "Pext = np.zeros((nDof))\n",
    "for iElem in np.arange(0, nElem):\n",
    "    NodeLeft = int(Element[iElem, 0])\n",
    "    NodeRight = int(Element[iElem, 1])\n",
    "    DofsLeft = 2*NodeLeft \n",
    "    DofsRight = 2*NodeRight\n",
    "    l0 = Element[iElem, 4]\n",
    "    m = Element[iElem, 2]\n",
    "    Pelem = -g*l0*m/2           # Half weight to each node\n",
    "    Pext[DofsLeft + 1] += Pelem\n",
    "    Pext[DofsRight + 1] += Pelem\n",
    "\n",
    "from StringForcesAndStiffness import StringForcesAndStiffness\n",
    "# Convergence parameters\n",
    "CONV = 0\n",
    "PLOT = False\n",
    "kIter = 0\n",
    "nMaxIter = 100\n",
    "TENSION = np.zeros((nElem))\n",
    "\n",
    "while CONV == 0:\n",
    "    kIter += 1\n",
    "    print(\"Iteration: \"+str(kIter)+\" ...\\n\")\n",
    "    # Check stability - define a number of maximum iterations. If solution\n",
    "    # hasn't converged, check what is going wrong (if something).\n",
    "    if kIter > nMaxIter:\n",
    "        break\n",
    "    \n",
    "    # Assemble vector with internal forces and stiffnes matrix\n",
    "    K = np.zeros((nDof*nDof)) \n",
    "    Fi = np.zeros((nDof))\n",
    "    for iElem in np.arange(0, nElem):\n",
    "        NodeLeft = int(Element[iElem, 0])\n",
    "        NodeRight = int(Element[iElem, 1])\n",
    "        DofsLeft = 2*NodeLeft \n",
    "        DofsRight = 2*NodeRight\n",
    "        l0 = Element[iElem, 4]\n",
    "        EA = Element[iElem, 3]\n",
    "        NodePos = ([NodeCoord[NodeLeft][0] + u[DofsLeft], NodeCoord[NodeRight][0] + u[DofsRight]], \n",
    "                    [NodeCoord[NodeLeft][1] + u[DofsLeft + 1], NodeCoord[NodeRight][1] + u[DofsRight + 1]])\n",
    "        Fi_elem, K_elem, Tension, WARN = StringForcesAndStiffness(NodePos, EA, l0, TENSION_ONLY)\n",
    "        TENSION[iElem] = Tension\n",
    "\n",
    "\n",
    "        if WARN:\n",
    "            print(\"WARNING: Element \"+str(iElem+1)+\" is under compression.\\n\")\n",
    "        \n",
    "        Fi[DofsLeft:DofsLeft + 2] += Fi_elem[0]\n",
    "        Fi[DofsRight:DofsRight + 2] += Fi_elem[1]\n",
    "\n",
    "        # Assemble the matrices at the correct place\n",
    "            # Get the degrees of freedom that correspond to each node\n",
    "        Dofs_Left = 2*(NodeLeft) + np.arange(0, 2)\n",
    "        Dofs_Right = 2*(NodeRight) + np.arange(0, 2)\n",
    "        nodes = np.append(Dofs_Left , Dofs_Right)\n",
    "        for i in np.arange(0, 4):\n",
    "            for j in np.arange(0, 4):\n",
    "                ij = nodes[i] + nodes[j]*nDof\n",
    "                K[ij] = K[ij] + K_elem[i, j]\n",
    "\n",
    "    K = K.reshape((nDof, nDof))\n",
    "\n",
    "    # Calculate residual forces\n",
    "    R = Pext - Fi\n",
    "\n",
    "    # Check for convergence\n",
    "    if np.linalg.norm(R[FreeDof])/np.linalg.norm(Pext[FreeDof]) < 1e-3:\n",
    "        CONV = 1\n",
    "\n",
    "    # Calculate increment of displacements\n",
    "    du = np.zeros((nDof))\n",
    "    du[FreeDof] = np.linalg.solve(K[fx, fy], R[FreeDof])\n",
    "\n",
    "    # Apply archlength to help with convergence\n",
    "    Scale = np.min(np.append(np.array([1]), lElem/np.max(np.abs(du))))\n",
    "    du = du*Scale   # Enforce that each node does not displace\n",
    "                    # more (at each iteration) than the length\n",
    "                    # of the elements\n",
    "\n",
    "    # Update displacement of nodes\n",
    "    u += du\n",
    "\n",
    "    # plot the updated configuration\n",
    "    if PLOT:\n",
    "        for iElem in np.arange(0, nElem):\n",
    "            NodeLeft = int(Element[iElem, 0])\n",
    "            NodeRight = int(Element[iElem, 1])\n",
    "            DofsLeft = 2*NodeLeft \n",
    "            DofsRight = 2*NodeRight\n",
    "            plt.plot([NodeCoord[NodeLeft][0] + u[DofsLeft], NodeCoord[NodeRight][0] + u[DofsRight]], \n",
    "                        [NodeCoord[NodeLeft][1] + u[DofsLeft + 1], NodeCoord[NodeRight][1] + u[DofsRight + 1]], '-ok')\n",
    "            \n",
    "        # plot the supports\n",
    "        plt.plot([0, D], [0, 0], 'vr')\n",
    "        plt.axis('equal')\n",
    "        plt.xlabel(\"x [m]\")\n",
    "        plt.ylabel(\"y [m]\")\n",
    "        plt.title(\"Iteration: \"+str(kIter))\n",
    "        plt.pause(0.05)\n",
    "\n",
    "if CONV == 1:\n",
    "    print(\"Converged solution at iteration: \"+str(kIter))\n",
    "    for iElem in np.arange(0, nElem):\n",
    "            NodeLeft = int(Element[iElem, 0])\n",
    "            NodeRight = int(Element[iElem, 1])\n",
    "            DofsLeft = 2*NodeLeft \n",
    "            DofsRight = 2*NodeRight\n",
    "            plt.plot([NodeCoord[NodeLeft][0] + u[DofsLeft], NodeCoord[NodeRight][0] + u[DofsRight]], \n",
    "                        [NodeCoord[NodeLeft][1] + u[DofsLeft + 1], NodeCoord[NodeRight][1] + u[DofsRight + 1]], '-ok')\n",
    "            \n",
    "    # plot the supports\n",
    "    plt.plot(D, 0, 'vr')\n",
    "    plt.axis('equal')\n",
    "    plt.xlabel(\"x [m]\")\n",
    "    plt.ylabel(\"y [m]\")\n",
    "    plt.title(\"Converged solution at iteration: \"+str(kIter))\n",
    "else:\n",
    "    print(\"Solution did not converge\")"
   ]
  },
  {
   "cell_type": "markdown",
   "metadata": {},
   "source": [
    "#### Step 2.2: solve the dynamic problem\n",
    "\n",
    "First, we define the mass on the left node and some damping. "
   ]
  },
  {
   "cell_type": "code",
   "execution_count": 7,
   "metadata": {},
   "outputs": [],
   "source": [
    "Mass = 100\n",
    "C = 0.001*EA"
   ]
  },
  {
   "cell_type": "markdown",
   "metadata": {},
   "source": [
    "The external force will be the same as the one used to find the initial position, so here we only need to compute the mass matrix."
   ]
  },
  {
   "cell_type": "code",
   "execution_count": 8,
   "metadata": {},
   "outputs": [],
   "source": [
    "M = np.zeros((nDof*nDof))\n",
    "M[0] = Mass                         # Add mass at the left node\n",
    "M[nDof + 1] = Mass                  # Add mass at the left node\n",
    "Pext[1] = Pext[1] - Mass*g          # Add weight to the left node\n",
    "for iElem in np.arange(0, nElem):\n",
    "        NodeLeft = int(Element[iElem, 0])\n",
    "        NodeRight = int(Element[iElem, 1])\n",
    "        DofsLeft = 2*NodeLeft \n",
    "        DofsRight = 2*NodeRight\n",
    "        l0 = Element[iElem, 4]\n",
    "        EA = Element[iElem, 3]\n",
    "        M_elem = m*l0/6*np.array([[2, 0, 1, 0], \n",
    "                                    [0, 2, 0, 1], \n",
    "                                    [1, 0, 2, 0], \n",
    "                                    [0, 1, 0, 2]])\n",
    "        # Assemble the matrices at the correct place\n",
    "        # Get the degrees of freedom that correspond to each node\n",
    "        Dofs_Left = 2*(NodeLeft) + np.arange(0, 2)\n",
    "        Dofs_Right = 2*(NodeRight) + np.arange(0, 2)\n",
    "        nodes = np.append(Dofs_Left , Dofs_Right)\n",
    "        for i in np.arange(0, 4):\n",
    "            for j in np.arange(0, 4):\n",
    "                ij = nodes[i] + nodes[j]*nDof\n",
    "                M[ij] = M[ij] + M_elem[i, j]\n",
    "M = M.reshape((nDof, nDof))"
   ]
  },
  {
   "cell_type": "markdown",
   "metadata": {},
   "source": [
    "We define the fixed and free DOFs of the system."
   ]
  },
  {
   "cell_type": "code",
   "execution_count": 9,
   "metadata": {},
   "outputs": [],
   "source": [
    "# Release the left support\n",
    "nDof = 2*nNode                          # number of DOFs\n",
    "FreeDof = np.arange(0, nDof)            # free DOFs \n",
    "FixedDof = [-2, -1]                     # fixed DOFs\n",
    "FreeDof = np.delete(FreeDof, FixedDof)  # remove the fixed DOFs from the free DOFs array\n",
    "\n",
    "# free & fixed array indices\n",
    "fx = FreeDof[:, np.newaxis]\n",
    "fy = FreeDof[np.newaxis, :]"
   ]
  },
  {
   "cell_type": "markdown",
   "metadata": {},
   "source": [
    "Now, we have all we need to perform the time integration. We initialize the state vector with zero initial velocities. To solve the ODE we use the `solve_ivp` function, calling the `ACCELERATIONS` function as an ode function. You can find the definition of this function below."
   ]
  },
  {
   "cell_type": "markdown",
   "metadata": {},
   "source": [
    "##### Auxiliar function:\n",
    "\n",
    "The `ACCELERATIONS` function computes the accelerations based on the equation:\n",
    "\n",
    "$$ \\bold{M} \\ddot{\\bold{u}}_{n+1} = \\bold{F}_{ext} - \\bold{F}_{int}(\\bold{u}_n, \\dot{\\bold{u}}_n) $$"
   ]
  },
  {
   "cell_type": "code",
   "execution_count": 10,
   "metadata": {},
   "outputs": [],
   "source": [
    "from StringDynamicForces import StringDynamicForces\n",
    "def ACCELERATIONS(t, U, NodeCoord, Element, FreeDof, C, M, Pext, TENSION_ONLY):\n",
    "    nDof = len(U)\n",
    "    u = U[:nDof//2]\n",
    "    v = U[nDof//2:]\n",
    "\n",
    "    # free & fixed array indices\n",
    "    fx = FreeDof[:, np.newaxis]\n",
    "    fy = FreeDof[np.newaxis, :]\n",
    "\n",
    "    # Calculate internal forces\n",
    "    FintDyn = np.zeros((nDof))\n",
    "    for iElem in np.arange(0, len(Element)):\n",
    "        NodeLeft = int(Element[iElem, 0])\n",
    "        NodeRight = int(Element[iElem, 1])\n",
    "        DofsLeft = 2*NodeLeft \n",
    "        DofsRight = 2*NodeRight\n",
    "        l0 = Element[iElem, 4]\n",
    "        EA = Element[iElem, 3]\n",
    "        NodePos = ([NodeCoord[NodeLeft][0] + u[DofsLeft], NodeCoord[NodeRight][0] + u[DofsRight]], \n",
    "            [NodeCoord[NodeLeft][1] + u[DofsLeft + 1], NodeCoord[NodeRight][1] + u[DofsRight + 1]])\n",
    "        NodeVel = ([v[DofsLeft], v[DofsRight]], \n",
    "                    [v[DofsLeft + 1], v[DofsRight + 1]])\n",
    "        Fint = StringDynamicForces(NodePos, NodeVel, EA, C, l0)\n",
    "        FintDyn[DofsLeft:DofsLeft + 2] += Fint[0]\n",
    "        FintDyn[DofsRight:DofsRight + 2] += Fint[1]\n",
    "\n",
    "    # Calculate the new acceleration\n",
    "    a = np.zeros((nDof//2))\n",
    "    a[FreeDof] = np.linalg.solve(M[fx, fy], (Pext[FreeDof]-FintDyn[FreeDof]))\n",
    "    \n",
    "    # Store the derivative of phase\n",
    "    dU = np.append(v, a)\n",
    "    #print(\"Time = \"+str(t)+\" s\")\n",
    "    return dU\n"
   ]
  },
  {
   "cell_type": "code",
   "execution_count": 11,
   "metadata": {},
   "outputs": [],
   "source": [
    "v = u*0\n",
    "U0 = np.append(u, v)\n",
    "dt = 0.1\n",
    "Tend = 30\n",
    "tspan = np.arange(0, Tend, dt)\n",
    "\n",
    "def odefun(t, U):\n",
    "    return ACCELERATIONS(t, U, NodeCoord, Element, FreeDof, C, M, Pext, TENSION_ONLY)\n",
    "\n",
    "sol = scp.solve_ivp(fun=odefun, t_span=[tspan[0], tspan[-1]], y0=U0, t_eval=tspan)  \n"
   ]
  },
  {
   "cell_type": "markdown",
   "metadata": {},
   "source": [
    "Once we have the solution, we can plot the evolution of the string."
   ]
  },
  {
   "cell_type": "code",
   "execution_count": 12,
   "metadata": {},
   "outputs": [
    {
     "data": {
      "text/plain": [
       "Text(0, 0.5, 'y [m]')"
      ]
     },
     "execution_count": 12,
     "metadata": {},
     "output_type": "execute_result"
    },
    {
     "data": {
      "image/png": "[encoded data removed]",
      "text/plain": [
       "<Figure size 432x288 with 1 Axes>"
      ]
     },
     "metadata": {
      "needs_background": "light"
     },
     "output_type": "display_data"
    }
   ],
   "source": [
    "%matplotlib inline\n",
    "import time\n",
    "from IPython import display\n",
    "\n",
    "for iT in np.arange(0, len(sol.t)):\n",
    "    try: \n",
    "        u = sol.y[:nDof, iT]\n",
    "        for iElem in np.arange(0, nElem):\n",
    "            NodeLeft = int(Element[iElem, 0])\n",
    "            NodeRight = int(Element[iElem, 1])\n",
    "            DofsLeft = 2*NodeLeft \n",
    "            DofsRight = 2*NodeRight\n",
    "            plt.plot([NodeCoord[NodeLeft][0] + u[DofsLeft], NodeCoord[NodeRight][0] + u[DofsRight]], \n",
    "                        [NodeCoord[NodeLeft][1] + u[DofsLeft + 1], NodeCoord[NodeRight][1] + u[DofsRight + 1]], '-ok')\n",
    "        # plot the supports\n",
    "        plt.plot(D, 0, 'vr')     \n",
    "        plt.axis('equal')\n",
    "        plt.xlabel(\"x [m]\")\n",
    "        plt.ylabel(\"y [m]\")\n",
    "        display.display(plt.gcf())\n",
    "        display.clear_output(wait=True)\n",
    "        plt.clf()\n",
    "        time.sleep(0.1)\n",
    "    except KeyboardInterrupt:\n",
    "        break\n",
    "\n",
    "u = sol.y[:nDof, -1]\n",
    "for iElem in np.arange(0, nElem):\n",
    "    NodeLeft = int(Element[iElem, 0])\n",
    "    NodeRight = int(Element[iElem, 1])\n",
    "    DofsLeft = 2*NodeLeft \n",
    "    DofsRight = 2*NodeRight\n",
    "    plt.plot([NodeCoord[NodeLeft][0] + u[DofsLeft], NodeCoord[NodeRight][0] + u[DofsRight]], \n",
    "                [NodeCoord[NodeLeft][1] + u[DofsLeft + 1], NodeCoord[NodeRight][1] + u[DofsRight + 1]], '-ok')\n",
    "# plot the supports\n",
    "plt.plot(D, 0, 'vr')     \n",
    "plt.axis('equal')\n",
    "plt.xlabel(\"x [m]\")\n",
    "plt.ylabel(\"y [m]\")\n"
   ]
  }
 ],
 "metadata": {
  "interpreter": {
   "hash": "31f2aee4e71d21fbe5cf8b01ff0e069b9275f58929596ceb00d14d90e3e16cd6"
  },
  "kernelspec": {
   "display_name": "Python 3.8.9 64-bit",
   "language": "python",
   "name": "python3"
  },
  "language_info": {
   "codemirror_mode": {
    "name": "ipython",
    "version": 3
   },
   "file_extension": ".py",
   "mimetype": "text/x-python",
   "name": "python",
   "nbconvert_exporter": "python",
   "pygments_lexer": "ipython3",
   "version": "3.9.7"
  },
  "orig_nbformat": 4
 },
 "nbformat": 4,
 "nbformat_minor": 2
}
