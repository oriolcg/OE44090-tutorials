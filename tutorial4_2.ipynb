{
 "cells": [
  {
   "cell_type": "markdown",
   "metadata": {},
   "source": [
    "# Tutorial 5: FEM for an Euler-Bernoulli beam\n",
    "In this tutorial we will use the FEM to solve a simple Euler-Bernoulli (EB) beam. We recall that the equation of motion of an EB beam is given by the following PDE:\n",
    "\n",
    "$$ \\rho A \\frac{\\partial^2 u(x,t)}{\\partial t^2} + E I \\frac{\\partial^4 u(x,t)}{\\partial x^4} = q(x) $$\n",
    "\n",
    "We consider that the beam has the following properties:\n",
    "\n",
    "* Length of $ L = 3$ m\n",
    "* Clamped at $ x = 0 $, that means $ u(0,t) = 0 $ and $ u'(0,t) = 0 \\quad \\forall t $\n",
    "* The rod is at rest initially,  $ u(x,0) = 0$ and $ \\dot{u}(x,0) = 0 $\n",
    "* A dynamic distributed load $ q(x,t) = 1e-3(L-x)+1e3sin(2\\pi t) $ $N/m$ is applied\n",
    "* $\\rho = 8e3$ $kg/m^3$\n",
    "* $A = 0.01$ $m^2$\n",
    "* $E = 2.1e9$ $Pa$\n",
    "* $ I = 2e-5$ $m^4$"
   ]
  },
  {
   "cell_type": "code",
   "execution_count": 25,
   "metadata": {},
   "outputs": [],
   "source": [
    "import numpy as np\n",
    "import matplotlib.pyplot as plt\n",
    "\n",
    "L = 3           # [m]\n",
    "u0 = 0          # [m]\n",
    "u0_dt2 = 0      # [m/s^2]\n",
    "du0 = 0         # [m]\n",
    "du0_dt2 = 0     # [m/s^2]\n",
    "def q(x, t):\n",
    "    return 1e-3*(L - x) + 1e3*np.sin(2*np.pi*t)\n",
    "rho = 8e3       # [kg/m^3]\n",
    "A = 1e-2        # [m^2]\n",
    "E = 2.1e9       # [Pa]\n",
    "I = 2e-5        # [m^4]"
   ]
  },
  {
   "cell_type": "markdown",
   "metadata": {},
   "source": [
    "## Step 1: discretize the domain\n",
    "\n",
    "We consider a discretization made out of $n_c = 5$ elements equally spaced."
   ]
  },
  {
   "cell_type": "code",
   "execution_count": 26,
   "metadata": {},
   "outputs": [],
   "source": [
    "ne = 5\n",
    "nn = ne + 1\n",
    "ndofs = 2*nn\n",
    "xn = np.linspace(0, L, nn)"
   ]
  },
  {
   "cell_type": "markdown",
   "metadata": {},
   "source": [
    "With the corresponding element-DOFs and DOF-node connectivity."
   ]
  },
  {
   "cell_type": "code",
   "execution_count": 27,
   "metadata": {},
   "outputs": [],
   "source": [
    "elem_dofs = []\n",
    "dof_node = []\n",
    "for ie in np.arange(0, ne):\n",
    "    elem_dofs.append(np.arange(2*ie, 2*ie + 4))\n",
    "for idof in np.arange(0, ndofs):\n",
    "    dof_node.append(int(np.floor(idof/2)))"
   ]
  },
  {
   "cell_type": "markdown",
   "metadata": {},
   "source": [
    "## Step 2: define the shape functions\n",
    "\n",
    "Here we assume that the displacement can be well captured by a piece-wise cubic function, so we make the modelling choice of selecting cubic shape functions.\n",
    "\n",
    "$$ N(x) = a + bx + cx^2 + dx^3 $$\n",
    "\n",
    "In that case, for each element, we need 4 DOFs to generate a cubic shape function. And we want to enforce that the shape functions associated to each DOF is 2 where the DOF is loacted and 0 otherwise.\n",
    "\n",
    "In theory, we have seen that we can obtain the coefficients by solving a linear system of the type:\n",
    "\n",
    "$$\\begin{bmatrix} 1 & x_l & x_l^2 & x_l^3 \\\\ 0 & 1 & 2x_l & 3x_l^2 \\\\ 1 & x_r & x_r^2 & x_r^3 \\\\ 0 & 1 & 2x_r & 3x_r^2 \\end{bmatrix} \\begin{bmatrix} a \\\\ b \\\\ c \\\\ d \\end{bmatrix} = \\begin{bmatrix} 1 \\\\ 0 \\\\ 0 \\\\ 0 \\end{bmatrix} $$\n",
    "\n",
    "Here, assuming that all elements have the same size $h$, we will simplify the system taking $x_l=0$ and $x_r=h$. Then, we can compute the shape functions associated to the 4 DOFs as follows"
   ]
  },
  {
   "cell_type": "code",
   "execution_count": 28,
   "metadata": {},
   "outputs": [],
   "source": [
    "N_k = []\n",
    "dN_k = []\n",
    "ddN_k = []\n",
    "h = L/ne\n",
    "matrix = np.array([[1, 0, 0, 0], [0, 1, 0, 0], [1, h,  h**2, h**3], [0, 1, 2*h, 3*h**2]])\n",
    "\n",
    "def base(x):\n",
    "    if isinstance(x, float):\n",
    "        return np.array([[1], [x], [x**2], [x**3]])\n",
    "    else:\n",
    "        return np.array([[np.ones(len(x))], [x], [x**2], [x**3]])\n",
    "def dbase(x):\n",
    "    if isinstance(x, float):\n",
    "        return np.array([[0], [1], [2*x], [3*x**2]])\n",
    "    else:\n",
    "        return np.array([[np.zeros(len(x))], [np.ones(len(x))], [2*x], [3*x**2]])\n",
    "def ddbase(x):\n",
    "    if isinstance(x, float):\n",
    "        return np.array([[0], [0], [2], [6*x]])\n",
    "    else:\n",
    "        return np.array([[np.zeros(len(x))], [np.zeros(len(x))], [2*np.ones(len(x))], [6*x]])\n",
    "def make_N(coeff): \n",
    "    return lambda x: np.dot(np.transpose(base(x)), coeff)\n",
    "def make_dN(coeff):\n",
    "    return lambda x: np.dot(np.transpose(dbase(x)), coeff)\n",
    "def make_ddN(coeff):\n",
    "    return lambda x: np.dot(np.transpose(ddbase(x)), coeff)\n",
    "\n",
    "dof_vec = np.arange(0,4)\n",
    "for idof in dof_vec:\n",
    "    rhs = np.zeros(len(dof_vec))\n",
    "    rhs[idof] = 1\n",
    "    coeff = np.linalg.solve(matrix, rhs)\n",
    "    N_k.append(make_N(coeff))\n",
    "    dN_k.append(make_dN(coeff))\n",
    "    ddN_k.append(make_ddN(coeff))\n"
   ]
  },
  {
   "cell_type": "markdown",
   "metadata": {},
   "source": [
    "Let's see how these functions look like for an element and check that they satisfy the requirements:\n",
    "\n",
    "* For DOF 1 we want: $N_1(0) = 1.0$, $N_1(h)=0.0$ and $N_1'(0)=N_1'(h)=0.0$.\n",
    "* For DOF 2 we want: $N_2(0)=N_2(h)=0.0$, $N_2'(0)=1.0$ and $N_2'(h) = 0.0$.\n",
    "* For DOF 3 we want: $N_3(0) = 0.0$, $N_3(h) = 1.0$ and $N_3'(0) = N_3'(h) = 0.0$.\n",
    "* For DOF 4 we want: $N_4(0) = N_4(h) = 0.0$, $N_4'(0) = 1.0$ and $N_4'(h) = 0.0$."
   ]
  },
  {
   "cell_type": "code",
   "execution_count": 29,
   "metadata": {},
   "outputs": [
    {
     "data": {
      "image/png": "[encoded data removed]",
      "text/plain": [
       "<Figure size 432x288 with 8 Axes>"
      ]
     },
     "metadata": {
      "needs_background": "light"
     },
     "output_type": "display_data"
    }
   ],
   "source": [
    "xplot = np.arange(0, h + h/100, h/100)\n",
    "\n",
    "fig, axs = plt.subplots(4, 2)\n",
    "axs[0, 0].plot(xplot, N_k[0](xplot))\n",
    "axs[0, 0].set_title(\"Shape function N$_1$\")\n",
    "axs[0, 1].plot(xplot, dN_k[0](xplot))\n",
    "axs[0, 1].set_title(\"Shape function derivative N$_1$'\")\n",
    "axs[1, 0].plot(xplot, N_k[1](xplot))\n",
    "axs[1, 0].set_title(\"Shape function N$_2$\")\n",
    "axs[1, 1].plot(xplot, dN_k[1](xplot))\n",
    "axs[1, 1].set_title(\"Shape function derivative N$_2$'\")\n",
    "axs[2, 0].plot(xplot, N_k[2](xplot))\n",
    "axs[2, 0].set_title(\"Shape function N$_3$\")\n",
    "axs[2, 1].plot(xplot, dN_k[2](xplot))\n",
    "axs[2, 1].set_title(\"Shape function derivative N$_3$'\")\n",
    "axs[3, 0].plot(xplot, N_k[3](xplot))\n",
    "axs[3, 0].set_title(\"Shape function N$_4$\")\n",
    "axs[3, 1].plot(xplot, dN_k[3](xplot))\n",
    "axs[3, 1].set_title(\"Shape function derivative N$_4$'\")\n",
    "\n",
    "# automatically fix subplot spacing\n",
    "plt.tight_layout()"
   ]
  },
  {
   "cell_type": "markdown",
   "metadata": {},
   "source": [
    "## Step 3: computation of the elemental matrices\n",
    "\n",
    "In the theory we have seen that the mass and stiffness matrices for the EB beam problem can be computed as:\n",
    "\n",
    "$$ M_{i,j}^k = \\int_{x_a}^{x_b} \\rho A N_i^k(x)N_j^k(x)dx, $$\n",
    "\n",
    "$$ K_{i,j}^k = \\int_{x_a}^{x_b} E I N_i''^k(x)N_j''^k(x)dx. $$\n",
    "\n",
    "Here we call the auxiliar function `elemental_matrices(P)` with `P` being a variable containting all the parameters."
   ]
  },
  {
   "cell_type": "code",
   "execution_count": 30,
   "metadata": {},
   "outputs": [],
   "source": [
    "import scipy.integrate as scp\n",
    "M_k = np.zeros((4, 4))\n",
    "K_k = np.zeros((4, 4))\n",
    "for idof in np.arange(0, 4):\n",
    "    for jdof in np.arange(0, 4):\n",
    "        def eqn_M(x):\n",
    "            return rho*A*N_k[idof](x)*N_k[jdof](x)\n",
    "        def eqn_K(x): \n",
    "            return E*I*ddN_k[idof](x)*ddN_k[jdof](x)\n",
    "        M_k[idof, jdof] = scp.quad(eqn_M, 0, h)[0]\n",
    "        K_k[idof, jdof] = scp.quad(eqn_K, 0, h)[0]"
   ]
  },
  {
   "cell_type": "markdown",
   "metadata": {},
   "source": [
    "-----------------------------------------------------------------------------------------------------\n",
    "**Problem**: Implement directly the elemental matrices given in the theory and compare with the ones computed here.\n",
    "\n",
    "-----------------------------------------------------------------------------------------------------\n",
    "\n",
    "In this example we also have a distributed dynamic loading function. This will give us a contribution to the right-hand-side vector that reads:\n",
    "\n",
    "$$ Q_i^k = \\int_{x_a}^{x_b} q(x)N_i(x)dx $$\n",
    "\n",
    "Since we want to integrate a multi-variable function $q(x,t)$ over one variable only $x$, we will use a symbolic integral here. Note that in that case, $q(x)$ is not the same for all elements, so we'll have to store all the elemental contributions."
   ]
  },
  {
   "cell_type": "code",
   "execution_count": 31,
   "metadata": {},
   "outputs": [],
   "source": [
    "# Implement directly here ...\n"
   ]
  },
  {
   "cell_type": "code",
   "execution_count": 32,
   "metadata": {},
   "outputs": [],
   "source": [
    "# def make_Q(eqn, xe):\n",
    "#     return lambda t: scp.quad(eqn, xe[0], xe[1], args=(1,))[0]\n",
    "\n",
    "def make_Q(eqn, xe):\n",
    "    return scp.quad(eqn, xe[0], xe[1])[0]\n",
    "\n",
    "Q2_k = []\n",
    "for ie in np.arange(0, ne):\n",
    "    dofs = elem_dofs[ie]\n",
    "    nodes = [dof_node[dofs[0]], dof_node[dofs[-1]]]\n",
    "    xe = xn[nodes]\n",
    "    Q_k = []\n",
    "    for idof in np.arange(0, 4):\n",
    "        def eqn1(x): \n",
    "            return (1e-3*(L-x))*N_k[idof](x)\n",
    "        def eqn2(x):\n",
    "            return 1e3*N_k[idof](x)\n",
    "        def make_Q1():\n",
    "            return lambda t: [make_Q(eqn1, xe), make_Q(eqn2, xe)]\n",
    "        #Q_k.append([make_Q(eqn1, xe), make_Q(eqn2, xe)])\n",
    "        Q_k.append(make_Q(eqn1, xe))\n",
    "    Q2_k.append(Q_k)\n"
   ]
  },
  {
   "cell_type": "code",
   "execution_count": 33,
   "metadata": {},
   "outputs": [
    {
     "name": "stdout",
     "output_type": "stream",
     "text": [
      "[[0.0008460000000000003, 8.280000000000006e-05, 0.0007739999999999996, -7.919999999999996e-05], [0.001745999999999999, 0.00040679999999999964, -0.0004859999999999993, 0.0010007999999999992], [0.012365999999999993, 0.0031067999999999972, -0.011465999999999992, 0.005104799999999997], [0.026225999999999996, 0.006886799999999997, -0.025685999999999987, 0.009640799999999996], [0.019565999999999986, 0.005266799999999996, -0.01938599999999999, 0.006832799999999995]]\n"
     ]
    }
   ],
   "source": [
    "print(Q2_k)"
   ]
  },
  {
   "cell_type": "markdown",
   "metadata": {},
   "source": [
    "## Step 4: global assembly\n",
    "\n",
    "To construct the global matrices we add all the elemental contributions to the corresponding nodes."
   ]
  },
  {
   "cell_type": "code",
   "execution_count": 34,
   "metadata": {},
   "outputs": [],
   "source": [
    "K = np.zeros((ndofs*ndofs))       # 1-D array for global stiffness matrix\n",
    "M = np.zeros((ndofs*ndofs))       # 1-D array for global mass matrix\n",
    "Q = np.zeros(ndofs)              # 1-D array for Q vector\n",
    "\n",
    "for ie in np.arange(0, ne):\n",
    "    # Get the nodes of the elements\n",
    "    dofs = elem_dofs[ie]\n",
    "    NodeLeft = dof_node[dofs[0]]\n",
    "    NodeRight = dof_node[dofs[-1]]\n",
    "    \n",
    "    # Get the degrees of freedom that correspond to each node\n",
    "    Dofs_Left = 2*(NodeLeft) + np.arange(0, 2)\n",
    "    Dofs_Right = 2*(NodeRight) + np.arange(0, 2)\n",
    "\n",
    "    # Assemble the matrices at the correct place\n",
    "    nodes = np.append(Dofs_Left, Dofs_Right)\n",
    "    for i in np.arange(0, 4):\n",
    "        Q[nodes[i]] = Q[nodes[i]] + Q2_k[ie][i]\n",
    "        for j in np.arange(0, 4):\n",
    "            ij = nodes[j] + nodes[i]*ndofs\n",
    "            M[ij] = M[ij] + M_k[i, j]\n",
    "            K[ij] = K[ij] + K_k[i, j]\n",
    "            \n",
    "# Reshape the global matrix from a 1-D array to a 2-D array\n",
    "M = M.reshape((ndofs, ndofs))\n",
    "K = K.reshape((ndofs, ndofs))\n",
    "\n",
    "# Transform the Q vector into functions dependent on time\n",
    "Q_vector = []\n",
    "for i in np.arange(0, ndofs):\n",
    "    Q_vector.append(lambda t: Q[i] + 0.0*t)"
   ]
  },
  {
   "cell_type": "markdown",
   "metadata": {},
   "source": [
    "We can use the `spy` command from the MatPlotLib.PyPlot package and inspect the structure of the matrices. Since the nodes are only attached to two elements at each side, we will only have contributions from the neighbour nodes. Therefore, you see that the matrices have a tri-block-diagonal structure."
   ]
  },
  {
   "cell_type": "code",
   "execution_count": 35,
   "metadata": {},
   "outputs": [
    {
     "data": {
      "text/plain": [
       "<matplotlib.image.AxesImage at 0x7faa60f3ba90>"
      ]
     },
     "execution_count": 35,
     "metadata": {},
     "output_type": "execute_result"
    },
    {
     "data": {
      "image/png": "[encoded data removed]",
      "text/plain": [
       "<Figure size 432x288 with 1 Axes>"
      ]
     },
     "metadata": {
      "needs_background": "light"
     },
     "output_type": "display_data"
    }
   ],
   "source": [
    "plt.figure()\n",
    "plt.spy(M)"
   ]
  },
  {
   "cell_type": "markdown",
   "metadata": {},
   "source": [
    "To apply the boundary conditions, we will remove the rows associated to the fixed DOFs and add the contribution to the right-hand-side. First, we identify the free and fixed DOFs."
   ]
  },
  {
   "cell_type": "code",
   "execution_count": 36,
   "metadata": {},
   "outputs": [],
   "source": [
    "fixed_dofs = np.arange(0, 2)                    # fixed DOFs\n",
    "free_dofs = np.arange(0, ndofs)                 # free DOFs\n",
    "free_dofs = np.delete(free_dofs, fixed_dofs)    # remove the fixed DOFs from the free DOFs array\n",
    "\n",
    "# free & fixed array indices\n",
    "fx = free_dofs[:, np.newaxis]\n",
    "fy = free_dofs[np.newaxis, :]\n",
    "bx = fixed_dofs[:, np.newaxis]\n",
    "by = fixed_dofs[np.newaxis, :]"
   ]
  },
  {
   "cell_type": "markdown",
   "metadata": {},
   "source": [
    "We can re-order the matrices and vectors in blocks, such that it's easy to operate with the blocks corresponding with the fixed DOFs. We'll use the notation $_I$ to designate an interior DOF and $_B$ to designate a boundary node.\n",
    "\n",
    "$$ \\begin{bmatrix} \\bold{M}_{II} & \\bold{M}_{IB} \\\\ \\bold{M}_{BI} &\\bold{M}_{BB} \\end{bmatrix}, \\quad \\begin{bmatrix} \\bold{K}_{II} & \\bold{K}_{IB} \\\\ \\bold{K}_{BI} &\\bold{K}_{BB} \\end{bmatrix}, \\quad \\begin{bmatrix} \\bold{Q}_{I}  \\\\ \\bold{Q}_{B}  \\end{bmatrix} $$"
   ]
  },
  {
   "cell_type": "code",
   "execution_count": 37,
   "metadata": {},
   "outputs": [],
   "source": [
    "# Mass\n",
    "Mii = M[fx, fy]\n",
    "Mib = M[fx, by]\n",
    "Mbi = M[bx, fy]\n",
    "Mbb = M[bx, by]\n",
    "\n",
    "# Stiffness\n",
    "Kii = K[fx, fy]\n",
    "Kib = K[fx, by]\n",
    "Kbi = K[bx, fy]\n",
    "Kbb = K[bx, by]"
   ]
  },
  {
   "cell_type": "markdown",
   "metadata": {},
   "source": [
    "Now operating with the different blocks, we can get a system of ODEs for the free DOFs, which is given by:\n",
    "\n",
    "$$ \\bold{M}_{II}\\bold{\\ddot{u}}_I + \\bold{K}_{II} \\bold{u}_I = \\bold{Q}_I - \\bold{M}_{IB}\\bold{\\ddot{u}}_B - \\bold{K}_{IB} \\bold{u}_B $$"
   ]
  },
  {
   "cell_type": "code",
   "execution_count": 38,
   "metadata": {},
   "outputs": [],
   "source": [
    "ub = np.array([u0, du0])\n",
    "ub_dt2 = np.array([u0_dt2, du0_dt2])\n",
    "RHS = -np.dot(Mib, ub_dt2) - np.dot(Kib, ub)"
   ]
  },
  {
   "cell_type": "markdown",
   "metadata": {},
   "source": [
    "## Step 5: solving the ODE\n",
    "\n",
    "At this point we have all the information to solve the ODE for each DOF. We can use what we learned in the previous modules."
   ]
  },
  {
   "cell_type": "code",
   "execution_count": 50,
   "metadata": {},
   "outputs": [
    {
     "data": {
      "text/plain": [
       "Text(0.5, 0, 'Time [s]')"
      ]
     },
     "execution_count": 50,
     "metadata": {},
     "output_type": "execute_result"
    },
    {
     "data": {
      "image/png": "[encoded data removed]",
      "text/plain": [
       "<Figure size 432x288 with 1 Axes>"
      ]
     },
     "metadata": {
      "needs_background": "light"
     },
     "output_type": "display_data"
    }
   ],
   "source": [
    "# Construct a matrix to reshape Q \n",
    "R = np.identity(ndofs)\n",
    "R = R[fx, 0:ndofs]\n",
    "\n",
    "# Set Dimensions and initial conditions of state vector\n",
    "nfdofs = len(free_dofs)\n",
    "udofs = np.arange(0, nfdofs)\n",
    "vdofs = np.arange(nfdofs, 2*nfdofs)\n",
    "q0 = np.zeros((2*nfdofs))\n",
    "\n",
    "# Time span (output purposes)\n",
    "tf = 5e-8\n",
    "tspan = np.arange(0, tf, 1e-10)\n",
    "\n",
    "# Solve\n",
    "def odefun(t, q):\n",
    "    return np.append(q[vdofs], np.linalg.solve(Mii, np.transpose(np.dot(R, Q).reshape(1,-1) + RHS - np.dot(Kii, q0[udofs])))).tolist()\n",
    "\n",
    "sol = scp.solve_ivp(fun=odefun, t_span=[tspan[0], tspan[-1]], y0=q0, t_eval=tspan)  \n",
    "\n",
    "# Plot results\n",
    "plt.figure()\n",
    "plt.plot(sol.t,sol.y[1])\n",
    "plt.xlabel('Time [s]')"
   ]
  }
 ],
 "metadata": {
  "interpreter": {
   "hash": "8661b582be0f012a274b7385348a70dad23ce1ee0d922b32977c503b98c884f2"
  },
  "kernelspec": {
   "display_name": "Python 3.9.7 ('base')",
   "language": "python",
   "name": "python3"
  },
  "language_info": {
   "codemirror_mode": {
    "name": "ipython",
    "version": 3
   },
   "file_extension": ".py",
   "mimetype": "text/x-python",
   "name": "python",
   "nbconvert_exporter": "python",
   "pygments_lexer": "ipython3",
   "version": "3.9.7"
  },
  "orig_nbformat": 4
 },
 "nbformat": 4,
 "nbformat_minor": 2
}
